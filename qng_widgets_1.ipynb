{
 "cells": [
  {
   "cell_type": "markdown",
   "metadata": {},
   "source": [
    "# Using Jupyter widgets to explore simple queueing models in Python\n",
    "\n",
    "I use Jupyter notebooks extensively in my teaching and research. For a while now, I've been wanting to explore the use of [Jupyter Widgets (ipywidgets](http://ipywidgets.readthedocs.io/en/latest/index.html) to add interactivity to notebooks and also as a kind of lightweight GUI for analytical applications. Some of my research involves [queueing models](https://en.wikipedia.org/wiki/Queueing_theory) and I've coded up a bunch of Python functions for computing various performance measures a number of common queueing systems. We'll use a few of those functions to start to learn to use `ipywidgets`. The two basic queueing models we'll explore are the $M/M/c$ and $M/G/c/c$ queueing systems ([Kendall's notation is shorthand for describing such systems](https://en.wikipedia.org/wiki/Kendall%27s_notation)). Both of these models (and their numerous variants) have been used extensively in customer service systems such as call centers and hospitals.\n",
    "\n",
    "**$M/M/c$ - multiserver Markovian queue**\n",
    "\n",
    "- Poisson arrivals (exponentially distributed interarrival times)\n",
    "- exponential service\n",
    "- c servers\n",
    "- unlimited queue size\n",
    "- arrivals finding all servers busy join the FCFS queue to wait for an available server\n",
    "\n",
    "**$M/G/c/c$ - Erlang loss system**\n",
    "\n",
    "- Poisson arrivals (exponentially distributed interarrival times)\n",
    "- general service time distribution\n",
    "- c servers\n",
    "- no queueing allowed (the second c in $M/G/c/c$ is the total number of customers allowed in system (service + queue)\n",
    "- arrivals finding all servers busy are lost to the system"
   ]
  },
  {
   "cell_type": "markdown",
   "metadata": {},
   "source": [
    "## Preliminaries\n",
    "Do some magic and import some libraries."
   ]
  },
  {
   "cell_type": "code",
   "execution_count": 3,
   "metadata": {
    "collapsed": true
   },
   "outputs": [],
   "source": [
    "%matplotlib inline"
   ]
  },
  {
   "cell_type": "code",
   "execution_count": 2,
   "metadata": {
    "collapsed": true
   },
   "outputs": [],
   "source": [
    "import matplotlib.pyplot as plt\n",
    "import numpy as np\n",
    "import scipy.stats as stats\n",
    "import math"
   ]
  },
  {
   "cell_type": "markdown",
   "metadata": {},
   "source": [
    "Here are the imports needed for the widgets."
   ]
  },
  {
   "cell_type": "code",
   "execution_count": 1,
   "metadata": {
    "collapsed": true
   },
   "outputs": [],
   "source": [
    "from ipywidgets import widgets\n",
    "from ipywidgets import interact, interactive, fixed\n",
    "from IPython.display import display"
   ]
  },
  {
   "cell_type": "markdown",
   "metadata": {},
   "source": [
    "## Functions to compute performance measures\n",
    "\n",
    "Here are the two functions we'll use for this first part. The `erlangb()` function computes the probability that an arrival to an $M/G/c/c$ system finds the system full and is lost. The `erlangc()` function computes the probability that an arrival to an $M/M/c$ system finds the system full and has to wait in queue for an available server. Both the [Erlang-B](https://en.wikipedia.org/wiki/Erlang_%28unit%29#Erlang_B_formula) and [Erlang-C](https://en.wikipedia.org/wiki/Erlang_%28unit%29#Erlang_C_formula) are well known queueing formulas and have efficient computational implementations.\n"
   ]
  },
  {
   "cell_type": "code",
   "execution_count": 4,
   "metadata": {
    "collapsed": true
   },
   "outputs": [],
   "source": [
    "def erlangb(load, c):\n",
    "    \"\"\"\n",
    "    Return the the probability of loss in M/G/c/c system using recursive approach.\n",
    "\n",
    "    Much faster than direct computation via\n",
    "    scipy.stats.poisson.pmf(c, load) / scipy.stats.poisson.cdf(c, load)\n",
    "\n",
    "    Parameters\n",
    "    ----------\n",
    "    load : float\n",
    "        average arrival rate * average service time (units are erlangs)\n",
    "    c : int\n",
    "        number of servers\n",
    "\n",
    "    Returns\n",
    "    -------\n",
    "    float\n",
    "        probability arrival finds system full\n",
    "\n",
    "    \"\"\"\n",
    "\n",
    "    invb = 1.0\n",
    "    for j in range(1, c + 1):\n",
    "        invb = 1.0 + invb * j / load\n",
    "\n",
    "    b = 1.0 / invb\n",
    "\n",
    "    return b\n"
   ]
  },
  {
   "cell_type": "markdown",
   "metadata": {},
   "source": [
    "Here's a quick plot of the Erlang-B function for an $M/G/1/1$ system and a range of traffic intensities. A few things to note:\n",
    "\n",
    "- Usually we represent the arrival rate by the greek letter $\\lambda$. It's the average number of customer arrivals per unit time.\n",
    "- Each server can process arrivals at a rate $\\mu$. So, $\\frac{1}{\\mu}$ is the average amount of time that a customer spends in the system.\n",
    "- The *traffic intensity*, usually denoted by the greek letter rho ($\\rho$), is the ratio of the customer arrival rate, $\\lambda$, to the system's overall service rate, $c\\mu$. \n",
    "- The *load*  is $c\\rho$ where $c$ is the number of servers and the units are known as *erlangs*,\n",
    "- For $M/M/c$ systems to be stable and to be able to compute the Erlang-C function, we need $\\rho < 1$ (traffic intensities greater than 1 are ok for $M/G/c/c$ but you'll just get more and more customers being lost)."
   ]
  },
  {
   "cell_type": "code",
   "execution_count": 66,
   "metadata": {},
   "outputs": [
    {
     "data": {
      "image/png": "[encoded data removed]",
      "text/plain": [
       "<matplotlib.figure.Figure at 0x7f54c92cfe80>"
      ]
     },
     "metadata": {},
     "output_type": "display_data"
    }
   ],
   "source": [
    "rho = np.linspace(0.5, .999, 50)\n",
    "c = 1\n",
    "plt.plot(rho, erlangb(rho*c,c))\n",
    "plt.ylim(0, .5)\n",
    "plt.xlabel('load (erlangs)')\n",
    "plt.ylabel('Probability of loss in M/G/{}/{}'.format(c, c))\n",
    "plt.grid()\n",
    "plt.show()"
   ]
  },
  {
   "cell_type": "markdown",
   "metadata": {},
   "source": [
    "Even for traffic intensities very close to 1.0, the probability that an arriving customer finds the system full is less than 0.5. Let's let the traffic intensity exceed 1.0 (i.e. arrivals showing up on average faster than we can serve them)."
   ]
  },
  {
   "cell_type": "code",
   "execution_count": 65,
   "metadata": {},
   "outputs": [
    {
     "data": {
      "image/png": "[encoded data removed]",
      "text/plain": [
       "<matplotlib.figure.Figure at 0x7f54c9231208>"
      ]
     },
     "metadata": {},
     "output_type": "display_data"
    }
   ],
   "source": [
    "rho = np.linspace(0.5, 3, 50)\n",
    "c = 1\n",
    "plt.plot(rho, erlangb(rho*c,c))\n",
    "plt.ylim(0, 1.0)\n",
    "plt.xlabel('load (erlangs)')\n",
    "plt.ylabel('Probability of loss in M/G/{}/{}'.format(c, c))\n",
    "plt.grid()\n",
    "plt.show()"
   ]
  },
  {
   "cell_type": "markdown",
   "metadata": {},
   "source": [
    "## Getting started with `ipywidgets`\n",
    "Go check out the [Jupyter Widgets User Guide](http://ipywidgets.readthedocs.io/en/latest/index.html) to familiarize yourself with the basics of widgets. My goal was to use widgets to allow me to control the number of servers in these two queueing systems and display both graphical and text output of the Erlang B and C formulas. This is a pretty simple use case but one that will allow me to start to understand widgets.\n",
    "\n",
    "Let's start by creating an `IntSlider` widget that lets the user pick the number of servers. The arguments are pretty self-explanatory."
   ]
  },
  {
   "cell_type": "code",
   "execution_count": 69,
   "metadata": {
    "collapsed": true
   },
   "outputs": [],
   "source": [
    "# Create the integer slider object\n",
    "pick_c = widgets.IntSlider(\n",
    "    value=5,\n",
    "    min=1,\n",
    "    max=50,\n",
    "    step=1,\n",
    "    description='Number of servers'\n",
    ")"
   ]
  },
  {
   "cell_type": "markdown",
   "metadata": {},
   "source": [
    "To show the slider, we can use the `display`function from the `IPython.display` module. Try it out."
   ]
  },
  {
   "cell_type": "code",
   "execution_count": 70,
   "metadata": {},
   "outputs": [
    {
     "data": {
      "application/vnd.jupyter.widget-view+json": {
       "model_id": "a66f49bd625b4c60849d9fc367dcd1b3"
      }
     },
     "metadata": {},
     "output_type": "display_data"
    }
   ],
   "source": [
    "display(pick_c)"
   ]
  },
  {
   "cell_type": "markdown",
   "metadata": {},
   "source": [
    "Our goal is to somehow have such a slider interact with our queueing related functions. We want to call a function and pass in the slider value as an argument. As a simple example, consider the following function."
   ]
  },
  {
   "cell_type": "code",
   "execution_count": 73,
   "metadata": {
    "collapsed": true
   },
   "outputs": [],
   "source": [
    "def f(x):\n",
    "    print(x ** 2)"
   ]
  },
  {
   "cell_type": "code",
   "execution_count": 74,
   "metadata": {},
   "outputs": [
    {
     "name": "stdout",
     "output_type": "stream",
     "text": [
      "25\n"
     ]
    }
   ],
   "source": [
    "f(5)"
   ]
  },
  {
   "cell_type": "markdown",
   "metadata": {},
   "source": [
    "To \"hook up\" the slider to the function, use the [`interact` function](http://ipywidgets.readthedocs.io/en/latest/examples/Using%20Interact.html). A few things to note:\n",
    "\n",
    "- The function is passed in as the first argument.\n",
    "- The second argument to `interact` is a named argument which references the widget we want to use.\n",
    "- We can pass a widget variable we've already created or create one on the fly."
   ]
  },
  {
   "cell_type": "code",
   "execution_count": 75,
   "metadata": {},
   "outputs": [
    {
     "data": {
      "application/vnd.jupyter.widget-view+json": {
       "model_id": "081c30807d7d4343aca3f1938d5d2dde"
      }
     },
     "metadata": {},
     "output_type": "display_data"
    }
   ],
   "source": [
    "interact(f, x=widgets.IntSlider(min=1,max=50,step=1,value=5,description='Number to square'));"
   ]
  },
  {
   "cell_type": "markdown",
   "metadata": {},
   "source": [
    "Put all these ideas together and we end up with an interactive plot showing how the Erlang-B function varies across a range of traffic intensities for a given number of servers."
   ]
  },
  {
   "cell_type": "code",
   "execution_count": 76,
   "metadata": {},
   "outputs": [
    {
     "data": {
      "application/vnd.jupyter.widget-view+json": {
       "model_id": "d8fc7f3cd5e14553a1b26d3370ad856f"
      }
     },
     "metadata": {},
     "output_type": "display_data"
    }
   ],
   "source": [
    "# Create function to generate plot based on erlang-b and slider controlling number of servers\n",
    "def erlangb_lossplot(num_servers):\n",
    "    plt.figure(1)\n",
    "    rho = np.linspace(0.5, .999, 200)\n",
    "    plt.plot(rho, erlangb(rho*num_servers,num_servers))\n",
    "    plt.ylim(0, .5)\n",
    "    plt.xlabel('load (erlangs)')\n",
    "    plt.ylabel('Probability of loss in M/G/c/c')\n",
    "    plt.grid()\n",
    "    plt.show()\n",
    "\n",
    "# Create a widget for the number of servers\n",
    "c_1 = widgets.IntSlider(\n",
    "    value=5,\n",
    "    min=1,\n",
    "    max=50,\n",
    "    step=1,\n",
    "    description='Number of servers'\n",
    ")\n",
    "\n",
    "# Create an interactive element and hook the slider to the erlang-b function\n",
    "interact(erlangb_lossplot, num_servers=c_1);"
   ]
  },
  {
   "cell_type": "markdown",
   "metadata": {},
   "source": [
    "Now let's do the same thing with the Erlang-C function."
   ]
  },
  {
   "cell_type": "code",
   "execution_count": 77,
   "metadata": {
    "collapsed": true
   },
   "outputs": [],
   "source": [
    "def erlangc(load, c):\n",
    "    \"\"\"\n",
    "    Return the the probability of delay in M/M/c/inf system using recursive Erlang B approach.\n",
    "\n",
    "\n",
    "    Parameters\n",
    "    ----------\n",
    "    load : float\n",
    "        average arrival rate * average service time (units are erlangs)\n",
    "    c : int\n",
    "        number of servers\n",
    "\n",
    "    Returns\n",
    "    -------\n",
    "    float\n",
    "        probability all servers busy\n",
    "\n",
    "    \"\"\"\n",
    "\n",
    "    rho = load / float(c)\n",
    "    #if rho.any() >= 1.0:\n",
    "    #    raise ValueError(\"rho must be less than 1.0\")\n",
    "    \n",
    "    eb = erlangb(load, c)\n",
    "    ec = 1.0 / (rho + (1 - rho) * (1.0 / eb))\n",
    "\n",
    "    return ec"
   ]
  },
  {
   "cell_type": "markdown",
   "metadata": {},
   "source": [
    "Let's include both Erlang-B and C on this plot. Notice also that instead of `interact`, we are using `interactive`. The `interactive` function returns an interactive widget object that can then be modified or interrogated (e.g. to get the values passed in). See the [docs](http://ipywidgets.readthedocs.io/en/latest/examples/Using%20Interact.html) for more details."
   ]
  },
  {
   "cell_type": "code",
   "execution_count": 78,
   "metadata": {},
   "outputs": [
    {
     "data": {
      "application/vnd.jupyter.widget-view+json": {
       "model_id": "bfcba4e8e7df448698a7fc2a67638667"
      }
     },
     "metadata": {},
     "output_type": "display_data"
    }
   ],
   "source": [
    "def erlangc_pwaitplot(num_servers):\n",
    "    plt.figure(2)\n",
    "    rho = np.linspace(0.5, .999, 50)\n",
    "    plt.plot(rho, erlangc(rho*num_servers,num_servers), label='P[Wait>0] in M/M/c')\n",
    "    plt.plot(rho, erlangb(rho*num_servers,num_servers), label='P[loss] in M/G/c/c')\n",
    "    plt.ylim(0, 1.0)\n",
    "    plt.xlabel('load (erlangs)')\n",
    "    plt.ylabel('Probability')\n",
    "    plt.legend()\n",
    "    plt.grid()\n",
    "    plt.show()\n",
    "\n",
    "c_2 = widgets.IntSlider(\n",
    "    value=5,\n",
    "    min=1,\n",
    "    max=50,\n",
    "    step=1,\n",
    "    description='Number of servers'\n",
    ")\n",
    "\n",
    "# Instead of interact, we'll use interactive so that we can reuse the interactive object\n",
    "# and set some of its properties (height of layout area in this case).\n",
    "interactive_plot_c = interactive(erlangc_pwaitplot, num_servers=c_2)\n",
    "interactive_plot_c.layout.height = '350px'\n",
    "interactive_plot_c"
   ]
  },
  {
   "cell_type": "markdown",
   "metadata": {},
   "source": [
    "Another useful widget allows the user to select a range via a slider. Let's try it out for selecting the range of traffic intensities. Start out by creating a `FloatRangeSlider` object and then displaying it. Try it out. Note the use of LaTex in the description."
   ]
  },
  {
   "cell_type": "code",
   "execution_count": 81,
   "metadata": {
    "collapsed": true
   },
   "outputs": [],
   "source": [
    "rho_range = widgets.FloatRangeSlider(\n",
    "    value=[0.5, .99],\n",
    "    min=0.01,\n",
    "    max=0.99,\n",
    "    step=0.01,\n",
    "    description=r'Range for \\(\\rho \\)',\n",
    "    disabled=False,\n",
    "    continuous_update=False,\n",
    "    orientation='horizontal',\n",
    "    readout=True,\n",
    "    readout_format='.2f',\n",
    ")"
   ]
  },
  {
   "cell_type": "code",
   "execution_count": 82,
   "metadata": {},
   "outputs": [
    {
     "data": {
      "application/vnd.jupyter.widget-view+json": {
       "model_id": "c8fbd93dd6c04d65bc8ae1920da8f4f7"
      }
     },
     "metadata": {},
     "output_type": "display_data"
    }
   ],
   "source": [
    "display(rho_range)"
   ]
  },
  {
   "cell_type": "code",
   "execution_count": 87,
   "metadata": {},
   "outputs": [
    {
     "name": "stdout",
     "output_type": "stream",
     "text": [
      "0.19 0.58\n",
      "(0.19, 0.58)\n"
     ]
    }
   ],
   "source": [
    "# Print out the key slider property values\n",
    "print(rho_range.lower, rho_range.upper)\n",
    "# The value property of the slider is a tuple containing the lower and upper range choices.\n",
    "print(rho_range.value)"
   ]
  },
  {
   "cell_type": "markdown",
   "metadata": {},
   "source": [
    "Create function that takes both widgets as inputs."
   ]
  },
  {
   "cell_type": "code",
   "execution_count": 88,
   "metadata": {},
   "outputs": [
    {
     "data": {
      "application/vnd.jupyter.widget-view+json": {
       "model_id": "a87f16efee894f7094abb5ffa0270ecf"
      }
     },
     "metadata": {},
     "output_type": "display_data"
    }
   ],
   "source": [
    "def erlangc_pwaitplot2(num_servers, rho_range):\n",
    "    plt.figure(3)\n",
    "    rho = np.linspace(rho_range[0], rho_range[1], 50)\n",
    "    plt.plot(rho, erlangc(rho*num_servers,num_servers), label='Prob of wait: $P(W>0)$ in M/M/c')\n",
    "    plt.plot(rho, erlangb(rho*num_servers,num_servers), label='Prob of loss: $P(N=c)$ in M/G/c/c')\n",
    "    plt.ylim(0, 1.0)\n",
    "    plt.xlabel('load (erlangs)')\n",
    "    plt.ylabel('Probability')\n",
    "    plt.legend()\n",
    "    plt.grid()\n",
    "    plt.show()\n",
    "\n",
    "interactive_plot_rhorange = interactive(erlangc_pwaitplot2, num_servers=c_2, rho_range=rho_range)\n",
    "interactive_plot_rhorange"
   ]
  },
  {
   "cell_type": "markdown",
   "metadata": {},
   "source": [
    "## System Dimensioning\n",
    "Finally, let's use both models for simple \"dimensioning\" by choosing the number of servers such that some specified *overflow threshold* on the loss probability (for $M/G/c/c$) or probability of waiting (for $M/M/c$). We'll use both `Text` widgets and a few different container widgets.\n",
    "\n",
    "We'll use a `FloatSlider` for the overflow threshold and for the load placed on the system."
   ]
  },
  {
   "cell_type": "code",
   "execution_count": 90,
   "metadata": {
    "collapsed": true
   },
   "outputs": [],
   "source": [
    "overflow_threshold_slider = widgets.FloatSlider(\n",
    "    value=0.05,\n",
    "    min=0.01,\n",
    "    max=0.25,\n",
    "    step=0.01,\n",
    "    description='Overflow threshold'\n",
    ")\n",
    "\n",
    "load_slider = widgets.FloatSlider(\n",
    "    value=5.0,\n",
    "    min=0.0,\n",
    "    max=50,\n",
    "    step=0.5,\n",
    "    description='Load'\n",
    ")"
   ]
  },
  {
   "cell_type": "markdown",
   "metadata": {},
   "source": [
    "Here's are two \"inverse\" functions that return the number of servers needed to serve a given load and meet a specified overflow probability threshold."
   ]
  },
  {
   "cell_type": "code",
   "execution_count": 91,
   "metadata": {
    "collapsed": true
   },
   "outputs": [],
   "source": [
    "def erlangc_inv(prob, load):\n",
    "    \"\"\"\n",
    "    Return the number of servers such that probability of delay in M/M/c/inf system is\n",
    "    less than specified probability\n",
    "\n",
    "\n",
    "    Parameters\n",
    "    ----------\n",
    "    prob : float\n",
    "        threshold delay probability\n",
    "    load : float\n",
    "        average arrival rate * average service time (units are erlangs)\n",
    "\n",
    "    Returns\n",
    "    -------\n",
    "    c : int\n",
    "        number of servers\n",
    "\n",
    "    \"\"\"\n",
    "\n",
    "    c = math.ceil(load)\n",
    "    ec = erlangc(load, c)\n",
    "    if ec <= prob:\n",
    "        return c\n",
    "    else:\n",
    "        while ec > prob:\n",
    "            c += 1\n",
    "            ec = erlangc(load, c)\n",
    "\n",
    "    return c\n",
    "\n",
    "def erlangb_inv(prob, load):\n",
    "    \"\"\"\n",
    "    Return the number of servers such that probability of loss in an M/G/c/c system is\n",
    "    less than specified probability\n",
    "\n",
    "\n",
    "    Parameters\n",
    "    ----------\n",
    "    prob : float\n",
    "        threshold loss probability\n",
    "    load : float\n",
    "        average arrival rate * average service time (units are erlangs)\n",
    "\n",
    "    Returns\n",
    "    -------\n",
    "    c : int\n",
    "        number of servers\n",
    "\n",
    "    \"\"\"\n",
    "\n",
    "    c = math.ceil(load)\n",
    "    ec = erlangb(load, c)\n",
    "    if ec <= prob:\n",
    "        return c\n",
    "    else:\n",
    "        while ec > prob:\n",
    "            c += 1\n",
    "            ec = erlangc(load, c)\n",
    "\n",
    "    return c"
   ]
  },
  {
   "cell_type": "markdown",
   "metadata": {},
   "source": [
    "There are several different text related widgets."
   ]
  },
  {
   "cell_type": "code",
   "execution_count": 92,
   "metadata": {},
   "outputs": [
    {
     "data": {
      "application/vnd.jupyter.widget-view+json": {
       "model_id": "0f52061354994537a8add0450faf4fd5"
      }
     },
     "metadata": {},
     "output_type": "display_data"
    }
   ],
   "source": [
    "\n",
    "widgets.Text(\n",
    "    value='Hello World',\n",
    "    placeholder='Type something',\n",
    "    description='String:',\n",
    "    disabled=False\n",
    ")"
   ]
  },
  {
   "cell_type": "markdown",
   "metadata": {},
   "source": [
    "We'll use `IntText` widgets for displaying integer values corresponding to the number of servers needed. Note that we are setting `disabled=True` as we won't be using these text boxes for input but simply for output display."
   ]
  },
  {
   "cell_type": "code",
   "execution_count": 94,
   "metadata": {
    "collapsed": true
   },
   "outputs": [],
   "source": [
    "b_out = widgets.IntText(\n",
    "            value=0,\n",
    "            description='Servers for M/G/c/c:',\n",
    "            disabled=True\n",
    "        )\n",
    "\n",
    "c_out = widgets.IntText(\n",
    "            value=0,\n",
    "            description='Servers for M/M/c:',\n",
    "            disabled=True\n",
    "        )"
   ]
  },
  {
   "cell_type": "markdown",
   "metadata": {},
   "source": [
    "Before trying to get the output text boxes working, let's just test out a function for calling the inverse functions."
   ]
  },
  {
   "cell_type": "code",
   "execution_count": 95,
   "metadata": {
    "collapsed": true
   },
   "outputs": [],
   "source": [
    "def dimensioner1(load, threshold):\n",
    "        b = erlangb_inv(threshold, load)\n",
    "        c = erlangc_inv(threshold, load)\n",
    "        \n",
    "        print(b,c)"
   ]
  },
  {
   "cell_type": "code",
   "execution_count": 96,
   "metadata": {},
   "outputs": [
    {
     "data": {
      "application/vnd.jupyter.widget-view+json": {
       "model_id": "ac1159375ad248198cc1f1741ee8fc78"
      }
     },
     "metadata": {},
     "output_type": "display_data"
    }
   ],
   "source": [
    "interact(dimensioner1, load=load_slider, threshold=overflow_threshold_slider);\n"
   ]
  },
  {
   "cell_type": "markdown",
   "metadata": {},
   "source": [
    "Now, instead of printing the two server values, let's set the value property of our `IntText` widgets and then display them."
   ]
  },
  {
   "cell_type": "code",
   "execution_count": 97,
   "metadata": {
    "collapsed": true
   },
   "outputs": [],
   "source": [
    "def dimensioner2(load, threshold):\n",
    "        b = erlangb_inv(threshold, load)\n",
    "        c = erlangc_inv(threshold, load)\n",
    "        \n",
    "        b_out.value = b\n",
    "        c_out.value = c\n",
    "        "
   ]
  },
  {
   "cell_type": "code",
   "execution_count": 98,
   "metadata": {},
   "outputs": [
    {
     "data": {
      "application/vnd.jupyter.widget-view+json": {
       "model_id": "176e17fadafe499e9cf5ea7645dd13f9"
      }
     },
     "metadata": {},
     "output_type": "display_data"
    },
    {
     "data": {
      "application/vnd.jupyter.widget-view+json": {
       "model_id": "8117ff4884ff4bd9b04bdcf457b02af0"
      }
     },
     "metadata": {},
     "output_type": "display_data"
    }
   ],
   "source": [
    "display(b_out)\n",
    "display(c_out)"
   ]
  },
  {
   "cell_type": "markdown",
   "metadata": {},
   "source": [
    "Now set up the interactive sliders. Try them out and watch what happens to the text boxes above."
   ]
  },
  {
   "cell_type": "code",
   "execution_count": 99,
   "metadata": {},
   "outputs": [
    {
     "data": {
      "application/vnd.jupyter.widget-view+json": {
       "model_id": "edeb2e086f094b47b0781638b68e45a5"
      }
     },
     "metadata": {},
     "output_type": "display_data"
    }
   ],
   "source": [
    "interact(dimensioner2, load=load_slider, threshold=overflow_threshold_slider);"
   ]
  },
  {
   "cell_type": "markdown",
   "metadata": {},
   "source": [
    "Let's enhance the output by also computing and displaying the actual loss and wait probabilities associated with the numbers of servers returned by the inverse functions."
   ]
  },
  {
   "cell_type": "code",
   "execution_count": 100,
   "metadata": {
    "collapsed": true
   },
   "outputs": [],
   "source": [
    "b_prob_out = widgets.Text(\n",
    "            value='0.0',\n",
    "            description='P[loss] in M/G/c/c:',\n",
    "            disabled=True\n",
    "        )\n",
    "\n",
    "c_prob_out = widgets.Text(\n",
    "            value='0.0',\n",
    "            description='P[wait] in M/M/c:',\n",
    "            disabled=True\n",
    "        )"
   ]
  },
  {
   "cell_type": "code",
   "execution_count": 101,
   "metadata": {
    "collapsed": true
   },
   "outputs": [],
   "source": [
    "def dimensioner3(load, threshold):\n",
    "        b = erlangb_inv(threshold, load)\n",
    "        c = erlangc_inv(threshold, load)\n",
    "        \n",
    "        b_prob = erlangb(load, b)\n",
    "        c_prob = erlangc(load, c)\n",
    "        \n",
    "        b_out.value = b\n",
    "        c_out.value = c\n",
    "        \n",
    "        b_prob_out.value = '{:.4f}'.format(b_prob)\n",
    "        c_prob_out.value = '{:.4f}'.format(c_prob)        "
   ]
  },
  {
   "cell_type": "markdown",
   "metadata": {},
   "source": [
    "We can use `VBox` and `HBox` widgets to create a simple rectangular layout of text boxes. Finally, we'll create the interactive widgets."
   ]
  },
  {
   "cell_type": "code",
   "execution_count": 103,
   "metadata": {},
   "outputs": [
    {
     "data": {
      "application/vnd.jupyter.widget-view+json": {
       "model_id": "10521a024b3f4b339aadb55c0913d9a0"
      }
     },
     "metadata": {},
     "output_type": "display_data"
    }
   ],
   "source": [
    "left_box = widgets.VBox([b_out, b_prob_out])\n",
    "right_box = widgets.VBox([c_out, c_prob_out])\n",
    "widgets.HBox([left_box, right_box])"
   ]
  },
  {
   "cell_type": "code",
   "execution_count": 104,
   "metadata": {},
   "outputs": [
    {
     "data": {
      "application/vnd.jupyter.widget-view+json": {
       "model_id": "5a6e1b9aebf94dd089a1573c62aba766"
      }
     },
     "metadata": {},
     "output_type": "display_data"
    }
   ],
   "source": [
    "interact(dimensioner3, load=load_slider, threshold=overflow_threshold_slider);"
   ]
  },
  {
   "cell_type": "markdown",
   "metadata": {},
   "source": [
    "We've barely scratched the surface of what is possible with Jupyter widgets. Now that we have a basic understanding of how they work, I'll move on to using them to create a very lightweight interface to my [hillmaker](https://github.com/misken/hillmaker/) application."
   ]
  },
  {
   "cell_type": "code",
   "execution_count": null,
   "metadata": {
    "collapsed": true
   },
   "outputs": [],
   "source": []
  }
 ],
 "metadata": {
  "kernelspec": {
   "display_name": "Python [conda env:hselab]",
   "language": "python",
   "name": "conda-env-hselab-py"
  },
  "language_info": {
   "codemirror_mode": {
    "name": "ipython",
    "version": 3
   },
   "file_extension": ".py",
   "mimetype": "text/x-python",
   "name": "python",
   "nbconvert_exporter": "python",
   "pygments_lexer": "ipython3",
   "version": "3.5.2"
  }
 },
 "nbformat": 4,
 "nbformat_minor": 2
}
