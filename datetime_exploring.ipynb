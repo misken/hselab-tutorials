{
 "metadata": {
  "name": "",
  "signature": "sha256:465f0655ded305a2bfa4db442e3b3ee2fc8d976a991d4caa62c9f4c70d846538"
 },
 "nbformat": 3,
 "nbformat_minor": 0,
 "worksheets": [
  {
   "cells": [
    {
     "cell_type": "markdown",
     "metadata": {},
     "source": [
      "Exploring dates and times in Python with a business analytics focus\n",
      "===================================================================\n",
      "\n",
      "For many of us in the business analytics world, working with dates and times is bread and butter stuff. We can work all kinds of magic with Excel's \"serial\" datetimes and worksheet functions like DATEVALUE(), WEEKDAY(), MONTH(), DATE() and many more. We can wield VBA functions like [DateDiff](http://msdn.microsoft.com/en-us/library/b5xbyt6f%28v=vs.90%29.aspx) with the best of them. We all know that, according to MS, time started on 1/1/1900 (or 1904 if you're on a Mac) and we just live with the fact that we can't do reliable datetime work before those magic epochs. I even wrote and released a free and open source MS Access add-in called [Hillmaker](http://hillmaker.sourceforge.net/) many years ago that did statistical analysis of time interval data by day of week and time of day. That tool still finds lots of use in the healthcare world for analyzing occupancy of things like nursing units, emergency departments, recovery room, and many other places with entry and exit timestamp data.\n",
      "\n",
      "So, when I started working with R and Python, one of the first things I did was see how they handled dates and times. I learned about the [*UTC epoch* and the POSIX time standard](http://en.wikipedia.org/wiki/Unix_time). In R, I quickly learned to love the [`lubridate` package](http://cran.r-project.org/web/packages/lubridate/index.html). And then I started to learn about dates and times in Python and started to know what programmers mean when they say \"there be dragons in there\". So, while I'm far from an expert, I did put together this little intro to Python dates and times aimed at business analtytics types who are new to Python. It is by no means comprehensive, but does cover the basics of the base Python `datetime` and `timedelta` classes along with Numpy `datetime64` and `timedelta64` classes. Oh yeah, it also covers the pandas `Timestamp` and `timedelta` classes (confused yet?). I also show one particular dragon that bit me - conversion between Numpy datetimes and Pandas datetimes - even though Pandas uses Numpy under the hood. Anyhoo, here we go."
     ]
    },
    {
     "cell_type": "markdown",
     "metadata": {},
     "source": [
      "Python's `datetime` and `timedelta` classes\n",
      "-------------------------------------------"
     ]
    },
    {
     "cell_type": "code",
     "collapsed": false,
     "input": [
      "import pandas as pd\n",
      "import numpy as np\n",
      "from pandas import Series, DataFrame\n",
      "from datetime import datetime\n",
      "from datetime import timedelta"
     ],
     "language": "python",
     "metadata": {},
     "outputs": [],
     "prompt_number": 1
    },
    {
     "cell_type": "code",
     "collapsed": false,
     "input": [
      "import matplotlib.pyplot as plt\n",
      "%matplotlib inline"
     ],
     "language": "python",
     "metadata": {},
     "outputs": [],
     "prompt_number": 114
    },
    {
     "cell_type": "markdown",
     "metadata": {},
     "source": [
      "Python has a module called `datetime` as part of its base system. \n",
      "\n",
      "https://docs.python.org/2/library/datetime.html\n",
      "\n",
      "> The datetime module supplies classes for manipulating dates and times in both simple and complex ways. While date and time arithmetic is supported, the focus of the implementation is on efficient attribute extraction for output formatting and manipulation.\n",
      "\n",
      "Datetimes can be *naive* or *aware*\n",
      "\n",
      "* naive objects don't know about timezones and their interpretation is application (coder) dependent\n",
      "* aware objects do know about timezones and are unambiguous"
     ]
    },
    {
     "cell_type": "code",
     "collapsed": false,
     "input": [
      "dates = [datetime(2012, 5, 1, 8, 30), datetime(2012, 5, 1, 9, 25), datetime(2012, 5, 1, 15, 30)]"
     ],
     "language": "python",
     "metadata": {},
     "outputs": [],
     "prompt_number": 115
    },
    {
     "cell_type": "code",
     "collapsed": false,
     "input": [
      "dates"
     ],
     "language": "python",
     "metadata": {},
     "outputs": [
      {
       "metadata": {},
       "output_type": "pyout",
       "prompt_number": 116,
       "text": [
        "[datetime.datetime(2012, 5, 1, 8, 30),\n",
        " datetime.datetime(2012, 5, 1, 9, 25),\n",
        " datetime.datetime(2012, 5, 1, 15, 30)]"
       ]
      }
     ],
     "prompt_number": 116
    },
    {
     "cell_type": "code",
     "collapsed": false,
     "input": [
      "type(dates)"
     ],
     "language": "python",
     "metadata": {},
     "outputs": [
      {
       "metadata": {},
       "output_type": "pyout",
       "prompt_number": 117,
       "text": [
        "list"
       ]
      }
     ],
     "prompt_number": 117
    },
    {
     "cell_type": "code",
     "collapsed": false,
     "input": [
      "type(dates[0])"
     ],
     "language": "python",
     "metadata": {},
     "outputs": [
      {
       "metadata": {},
       "output_type": "pyout",
       "prompt_number": 118,
       "text": [
        "datetime.datetime"
       ]
      }
     ],
     "prompt_number": 118
    },
    {
     "cell_type": "code",
     "collapsed": false,
     "input": [
      "intime_dt = dates[0]\n",
      "outtime_dt = dates[1]\n",
      "type(intime_dt)"
     ],
     "language": "python",
     "metadata": {},
     "outputs": [
      {
       "metadata": {},
       "output_type": "pyout",
       "prompt_number": 119,
       "text": [
        "datetime.datetime"
       ]
      }
     ],
     "prompt_number": 119
    },
    {
     "cell_type": "code",
     "collapsed": false,
     "input": [
      "# The commented out lines represent attributes that ARE available in pandas Timestamp objects\n",
      "#   but not in Python datetime objects\n",
      "print ('Datetime: {}'.format(intime_dt))\n",
      "print ('Date: {}'.format(intime_dt.date()))\n",
      "print ('Month: {}'.format(intime_dt.month))\n",
      "print ('Day: {}'.format(intime_dt.day))\n",
      "#print ('DayOfWeek: {}'.format(intime_dt.dayofweek))\n",
      "print ('Weekday: {}'.format(intime_dt.weekday()))\n",
      "#print ('DayOfYear: {}'.format(intime_dt.dayofyear))\n",
      "#print ('WeekOfYear: {}'.format(intime_dt.weekofyear))\n",
      "#print ('Quarter: {}'.format(intime_dt.quarter))\n",
      "print ('Hour: {}'.format(intime_dt.hour))\n",
      "print ('Minute: {}'.format(intime_dt.minute))\n",
      "print ('Second: {}'.format(intime_dt.second))\n",
      "print ('Microsecond: {}'.format(intime_dt.microsecond))"
     ],
     "language": "python",
     "metadata": {},
     "outputs": [
      {
       "output_type": "stream",
       "stream": "stdout",
       "text": [
        "Datetime: 2012-05-01 08:30:00\n",
        "Date: 2012-05-01\n",
        "Month: 5\n",
        "Day: 1\n",
        "Weekday: 1\n",
        "Hour: 8\n",
        "Minute: 30\n",
        "Second: 0\n",
        "Microsecond: 0\n"
       ]
      }
     ],
     "prompt_number": 120
    },
    {
     "cell_type": "code",
     "collapsed": false,
     "input": [
      "los_td = outtime_dt - intime_dt\n",
      "print (los_td)\n",
      "type(los_td)"
     ],
     "language": "python",
     "metadata": {},
     "outputs": [
      {
       "output_type": "stream",
       "stream": "stdout",
       "text": [
        "0:55:00\n"
       ]
      },
      {
       "metadata": {},
       "output_type": "pyout",
       "prompt_number": 121,
       "text": [
        "datetime.timedelta"
       ]
      }
     ],
     "prompt_number": 121
    },
    {
     "cell_type": "code",
     "collapsed": false,
     "input": [
      "atts = [att for att in dir(los_td) if '__' not in att]\n",
      "print(atts)"
     ],
     "language": "python",
     "metadata": {},
     "outputs": [
      {
       "output_type": "stream",
       "stream": "stdout",
       "text": [
        "['days', 'max', 'microseconds', 'min', 'resolution', 'seconds', 'total_seconds']\n"
       ]
      }
     ],
     "prompt_number": 122
    },
    {
     "cell_type": "code",
     "collapsed": false,
     "input": [
      "print ('Timedelta: {}'.format(los_td))\n",
      "print ('Seconds: {}'.format(los_td.seconds))\n",
      "print ('Total Seconds: {}'.format(los_td.total_seconds()))\n",
      "print ('Microseconds: {}'.format(los_td.microseconds))\n",
      "print ('Resolution: {}'.format(los_td.resolution))\n",
      "print ('Min: {}'.format(los_td.min))\n",
      "print ('Max: {}'.format(los_td.max))"
     ],
     "language": "python",
     "metadata": {},
     "outputs": [
      {
       "output_type": "stream",
       "stream": "stdout",
       "text": [
        "Timedelta: 0:55:00\n",
        "Seconds: 3300\n",
        "Total Seconds: 3300.0\n",
        "Microseconds: 0\n",
        "Resolution: 0:00:00.000001\n",
        "Min: -999999999 days, 0:00:00\n",
        "Max: 999999999 days, 23:59:59.999999\n"
       ]
      }
     ],
     "prompt_number": 123
    },
    {
     "cell_type": "markdown",
     "metadata": {},
     "source": [
      "So, you can use the `total_seconds()` method to get a duration in seconds from a `timedelta` object. If duration is < 1 second, it returns fractional seconds. To convert to other time units, just do the simple math."
     ]
    },
    {
     "cell_type": "code",
     "collapsed": false,
     "input": [
      "timedelta(0,0,10)"
     ],
     "language": "python",
     "metadata": {},
     "outputs": [
      {
       "metadata": {},
       "output_type": "pyout",
       "prompt_number": 124,
       "text": [
        "datetime.timedelta(0, 0, 10)"
       ]
      }
     ],
     "prompt_number": 124
    },
    {
     "cell_type": "code",
     "collapsed": false,
     "input": [
      "timedelta(0,0,17).total_seconds()"
     ],
     "language": "python",
     "metadata": {},
     "outputs": [
      {
       "metadata": {},
       "output_type": "pyout",
       "prompt_number": 125,
       "text": [
        "1.7e-05"
       ]
      }
     ],
     "prompt_number": 125
    },
    {
     "cell_type": "code",
     "collapsed": false,
     "input": [
      "atts = [att for att in dir(intime_dt) if '__' not in att]"
     ],
     "language": "python",
     "metadata": {},
     "outputs": [],
     "prompt_number": 126
    },
    {
     "cell_type": "code",
     "collapsed": false,
     "input": [
      "print (atts)"
     ],
     "language": "python",
     "metadata": {},
     "outputs": [
      {
       "output_type": "stream",
       "stream": "stdout",
       "text": [
        "['astimezone', 'combine', 'ctime', 'date', 'day', 'dst', 'fromordinal', 'fromtimestamp', 'hour', 'isocalendar', 'isoformat', 'isoweekday', 'max', 'microsecond', 'min', 'minute', 'month', 'now', 'replace', 'resolution', 'second', 'strftime', 'strptime', 'time', 'timestamp', 'timetuple', 'timetz', 'today', 'toordinal', 'tzinfo', 'tzname', 'utcfromtimestamp', 'utcnow', 'utcoffset', 'utctimetuple', 'weekday', 'year']\n"
       ]
      }
     ],
     "prompt_number": 127
    },
    {
     "cell_type": "markdown",
     "metadata": {},
     "source": [
      "Numpy's newish `datetime64` and `timedelta64` classes\n",
      "-----------------------------------------------------\n",
      "\n",
      "The Numpy library (v 1.7.0) introduced a new datatype called datetime64. Numpy uses this name because there is already a datetime data type in Python datetime library. Like R, dates and times in Python are stored based on the notion of POSIX time - the number of seconds elapsed since Jan 1, 1970 00:00:00 GMT - called the UTC epoch. This doesn't mean that dates and times before that cannot be represented - we just use negative numbers. Representing and working with dates and times for computing is a pretty interesting topic, fraught with complexities like time zones, daylight savings time, and leap seconds. A few good places to start are:\n",
      "\n",
      "Numpy docs - http://docs.scipy.org/doc/numpy-dev/reference/arrays.datetime.html\n",
      "\n",
      "Pandas docs - http://pandas.pydata.org/pandas-docs/dev/timeseries.html\n",
      "\n",
      "See http://cr.yp.to/proto/utctai.html for gory details on UTC and ATI and leap seconds and the problems with the POSIX standard.\n",
      "\n",
      "http://stackoverflow.com/questions/13703720/converting-between-datetime-timestamp-and-datetime64\n",
      "\n",
      "Here's the actual numpy proposal for datetime64 and timedelta64, authored by Travis Oliphant.\n",
      "\n",
      "https://github.com/numpy/numpy/blob/master/doc/neps/datetime-proposal.rst\n",
      "\n"
     ]
    },
    {
     "cell_type": "markdown",
     "metadata": {},
     "source": [
      "Let's create a Numpy `datetime64` object."
     ]
    },
    {
     "cell_type": "code",
     "collapsed": false,
     "input": [
      "np.datetime64('2012-05-01 08:30:00')"
     ],
     "language": "python",
     "metadata": {},
     "outputs": [
      {
       "metadata": {},
       "output_type": "pyout",
       "prompt_number": 128,
       "text": [
        "numpy.datetime64('2012-05-01T08:30:00-0400')"
       ]
      }
     ],
     "prompt_number": 128
    },
    {
     "cell_type": "code",
     "collapsed": false,
     "input": [
      "dates64 = [np.datetime64('2012-05-01 08:30:00'), np.datetime64('2012-05-01 09:25:00'), np.datetime64('2012-05-01 15:30:00')]"
     ],
     "language": "python",
     "metadata": {},
     "outputs": [],
     "prompt_number": 129
    },
    {
     "cell_type": "code",
     "collapsed": false,
     "input": [
      "dates64"
     ],
     "language": "python",
     "metadata": {},
     "outputs": [
      {
       "metadata": {},
       "output_type": "pyout",
       "prompt_number": 130,
       "text": [
        "[numpy.datetime64('2012-05-01T08:30:00-0400'),\n",
        " numpy.datetime64('2012-05-01T09:25:00-0400'),\n",
        " numpy.datetime64('2012-05-01T15:30:00-0400')]"
       ]
      }
     ],
     "prompt_number": 130
    },
    {
     "cell_type": "markdown",
     "metadata": {},
     "source": [
      "As you can see from below, UTC is four hours later than EDT. In other words, the EDT timezone offset is UTC-4."
     ]
    },
    {
     "cell_type": "code",
     "collapsed": false,
     "input": [
      "dt_utcnow = datetime.utcnow()\n",
      "dt_utcnow"
     ],
     "language": "python",
     "metadata": {},
     "outputs": [
      {
       "metadata": {},
       "output_type": "pyout",
       "prompt_number": 131,
       "text": [
        "datetime.datetime(2014, 6, 25, 23, 36, 51, 924417)"
       ]
      }
     ],
     "prompt_number": 131
    },
    {
     "cell_type": "code",
     "collapsed": false,
     "input": [
      "# Can create datetime64's from base Python datetimes\n",
      "dt64_utcnow = np.datetime64(dt_utcnow)\n",
      "dt64_utcnow"
     ],
     "language": "python",
     "metadata": {},
     "outputs": [
      {
       "metadata": {},
       "output_type": "pyout",
       "prompt_number": 132,
       "text": [
        "numpy.datetime64('2014-06-25T19:36:51.924417-0400')"
       ]
      }
     ],
     "prompt_number": 132
    },
    {
     "cell_type": "code",
     "collapsed": false,
     "input": [
      "curdates64 = [np.datetime64('2014-06-01 08:30:00'), np.datetime64('2014-06-01 09:25:00'), np.datetime64('2014-06-01 15:30:00')]"
     ],
     "language": "python",
     "metadata": {},
     "outputs": [],
     "prompt_number": 133
    },
    {
     "cell_type": "code",
     "collapsed": false,
     "input": [
      "curdates64"
     ],
     "language": "python",
     "metadata": {},
     "outputs": [
      {
       "metadata": {},
       "output_type": "pyout",
       "prompt_number": 134,
       "text": [
        "[numpy.datetime64('2014-06-01T08:30:00-0400'),\n",
        " numpy.datetime64('2014-06-01T09:25:00-0400'),\n",
        " numpy.datetime64('2014-06-01T15:30:00-0400')]"
       ]
      }
     ],
     "prompt_number": 134
    },
    {
     "cell_type": "code",
     "collapsed": false,
     "input": [
      "intime_dt64 = dates64[0]\n",
      "outtime_dt64 = dates64[1]\n",
      "print(type(intime_dt64))\n",
      "print(intime_dt64)\n",
      "intime_dt64"
     ],
     "language": "python",
     "metadata": {},
     "outputs": [
      {
       "output_type": "stream",
       "stream": "stdout",
       "text": [
        "<class 'numpy.datetime64'>\n",
        "2012-05-01T08:30:00-0400\n"
       ]
      },
      {
       "metadata": {},
       "output_type": "pyout",
       "prompt_number": 135,
       "text": [
        "numpy.datetime64('2012-05-01T08:30:00-0400')"
       ]
      }
     ],
     "prompt_number": 135
    },
    {
     "cell_type": "code",
     "collapsed": false,
     "input": [
      "# The commented out lines represent attributes that ARE available in pandas Timestamp objects\n",
      "#   but not in numpy datetime64 objects\n",
      "print ('Datetime: {}'.format(str(intime_dt64)))\n",
      "#print ('Date: {}'.format(intime_dt64.date()))\n",
      "#print ('Month: {}'.format(intime_dt64.month))\n",
      "#print ('Day: {}'.format(intime_dt.day))\n",
      "#print ('DayOfWeek: {}'.format(intime_dt.dayofweek))\n",
      "#print ('Weekday: {}'.format(intime_dt.weekday()))\n",
      "#print ('DayOfYear: {}'.format(intime_dt.dayofyear))\n",
      "#print ('WeekOfYear: {}'.format(intime_dt.weekofyear))\n",
      "#print ('Quarter: {}'.format(intime_dt.quarter))\n",
      "#print ('Hour: {}'.format(intime_dt.hour))\n",
      "#print ('Minute: {}'.format(intime_dt.minute))\n",
      "#print ('Second: {}'.format(intime_dt.second))\n",
      "#print ('Microsecond: {}'.format(intime_dt.microsecond))"
     ],
     "language": "python",
     "metadata": {},
     "outputs": [
      {
       "output_type": "stream",
       "stream": "stdout",
       "text": [
        "Datetime: 2012-05-01T08:30:00-0400\n"
       ]
      }
     ],
     "prompt_number": 136
    },
    {
     "cell_type": "markdown",
     "metadata": {},
     "source": [
      "You can subtract two `datetime64` objects and get a `timedelta64` object in return."
     ]
    },
    {
     "cell_type": "code",
     "collapsed": false,
     "input": [
      "los_dt64 = outtime_dt64 - intime_dt64\n",
      "los_dt64"
     ],
     "language": "python",
     "metadata": {},
     "outputs": [
      {
       "metadata": {},
       "output_type": "pyout",
       "prompt_number": 137,
       "text": [
        "numpy.timedelta64(3300,'s')"
       ]
      }
     ],
     "prompt_number": 137
    },
    {
     "cell_type": "code",
     "collapsed": false,
     "input": [
      "# Coerce it to other units\n",
      "np.timedelta64(los_dt64,'m')"
     ],
     "language": "python",
     "metadata": {},
     "outputs": [
      {
       "metadata": {},
       "output_type": "pyout",
       "prompt_number": 138,
       "text": [
        "numpy.timedelta64(55,'m')"
       ]
      }
     ],
     "prompt_number": 138
    },
    {
     "cell_type": "markdown",
     "metadata": {},
     "source": [
      "Unfortunately, `timedelta64` objects have almost no useful attributes in terms of date time math. OTH, see the `datetime.timedelta` object (and Pandas) for a number of useful attributes."
     ]
    },
    {
     "cell_type": "markdown",
     "metadata": {},
     "source": [
      "## Pandas and datetimes\n",
      "\n",
      "\n",
      "\n",
      "Pandas prides itself on its handling of time series data (speed, flexibility, power) and is built on time of numpy `datetime64` and `timedelta64` data types (instead of Python's base `datetime` and `timedelta` types. Pandas also wanted to be very [time-zone aware and time-zone capable](http://wesmckinney.com/blog/?cat=5). So, Pandas has its own data type for timestamps called, well, `Timetamp`. It's based on numpy's `datetime64` type but works like Python's `datetime` (I think). The following StackOverlfow post (the \"welcome to hell\" post) is quite popular and relevant.\n",
      "\n",
      "http://stackoverflow.com/questions/13703720/converting-between-datetime-timestamp-and-datetime64"
     ]
    },
    {
     "cell_type": "markdown",
     "metadata": {},
     "source": [
      "Pandas time series indexes can be timestamp or time period based."
     ]
    },
    {
     "cell_type": "code",
     "collapsed": false,
     "input": [
      "ts = Series(np.random.randint(1,100,3), index=dates)"
     ],
     "language": "python",
     "metadata": {},
     "outputs": [],
     "prompt_number": 139
    },
    {
     "cell_type": "code",
     "collapsed": false,
     "input": [
      "ts"
     ],
     "language": "python",
     "metadata": {},
     "outputs": [
      {
       "metadata": {},
       "output_type": "pyout",
       "prompt_number": 140,
       "text": [
        "2012-05-01 08:30:00    86\n",
        "2012-05-01 09:25:00    82\n",
        "2012-05-01 15:30:00    34\n",
        "dtype: int32"
       ]
      }
     ],
     "prompt_number": 140
    },
    {
     "cell_type": "code",
     "collapsed": false,
     "input": [
      "ts.index"
     ],
     "language": "python",
     "metadata": {},
     "outputs": [
      {
       "metadata": {},
       "output_type": "pyout",
       "prompt_number": 141,
       "text": [
        "<class 'pandas.tseries.index.DatetimeIndex'>\n",
        "[2012-05-01 08:30:00, ..., 2012-05-01 15:30:00]\n",
        "Length: 3, Freq: None, Timezone: None"
       ]
      }
     ],
     "prompt_number": 141
    },
    {
     "cell_type": "markdown",
     "metadata": {},
     "source": [
      "If we have demand data by month, a period based index might make more sense."
     ]
    },
    {
     "cell_type": "code",
     "collapsed": false,
     "input": [
      "from pandas import Period, PeriodIndex"
     ],
     "language": "python",
     "metadata": {},
     "outputs": [],
     "prompt_number": 142
    },
    {
     "cell_type": "code",
     "collapsed": false,
     "input": [
      "periods = PeriodIndex([Period('2012-01'), Period('2012-02'),Period('2012-03')])"
     ],
     "language": "python",
     "metadata": {},
     "outputs": [],
     "prompt_number": 143
    },
    {
     "cell_type": "code",
     "collapsed": false,
     "input": [
      "ts2 = Series(np.random.randint(1,100,3), index=periods)"
     ],
     "language": "python",
     "metadata": {},
     "outputs": [],
     "prompt_number": 144
    },
    {
     "cell_type": "code",
     "collapsed": false,
     "input": [
      "ts2"
     ],
     "language": "python",
     "metadata": {},
     "outputs": [
      {
       "metadata": {},
       "output_type": "pyout",
       "prompt_number": 145,
       "text": [
        "2012-01     3\n",
        "2012-02    59\n",
        "2012-03    34\n",
        "Freq: M, dtype: int32"
       ]
      }
     ],
     "prompt_number": 145
    },
    {
     "cell_type": "code",
     "collapsed": false,
     "input": [
      "ts2.index"
     ],
     "language": "python",
     "metadata": {},
     "outputs": [
      {
       "metadata": {},
       "output_type": "pyout",
       "prompt_number": 146,
       "text": [
        "<class 'pandas.tseries.period.PeriodIndex'>\n",
        "freq: M\n",
        "[2012-01, ..., 2012-03]\n",
        "length: 3"
       ]
      }
     ],
     "prompt_number": 146
    },
    {
     "cell_type": "markdown",
     "metadata": {},
     "source": [
      "From the [pandas docs](http://pandas.pydata.org/pandas-docs/dev/timeseries.html):\n",
      "\n",
      "> Starting with 0.8, pandas allows you to capture both representations and convert between them. Under the hood, pandas represents timestamps using instances of Timestamp and sequences of timestamps using instances of DatetimeIndex. For regular time spans, pandas uses Period objects for scalar values and PeriodIndex for sequences of spans."
     ]
    },
    {
     "cell_type": "code",
     "collapsed": false,
     "input": [
      "from pandas import Timestamp"
     ],
     "language": "python",
     "metadata": {},
     "outputs": [],
     "prompt_number": 147
    },
    {
     "cell_type": "code",
     "collapsed": false,
     "input": [
      "Timestamp('20120501 08:30:00')"
     ],
     "language": "python",
     "metadata": {},
     "outputs": [
      {
       "metadata": {},
       "output_type": "pyout",
       "prompt_number": 148,
       "text": [
        "Timestamp('2012-05-01 08:30:00', tz=None)"
       ]
      }
     ],
     "prompt_number": 148
    },
    {
     "cell_type": "code",
     "collapsed": false,
     "input": [
      "timestamps = [Timestamp('20120501 08:30:00'), Timestamp('20120501 09:25:00'), Timestamp('20120501 15:30:00')]"
     ],
     "language": "python",
     "metadata": {},
     "outputs": [],
     "prompt_number": 149
    },
    {
     "cell_type": "code",
     "collapsed": false,
     "input": [
      "intime_ts = timestamps[0]\n",
      "outtime_ts = timestamps[1]\n",
      "type(intime_ts)"
     ],
     "language": "python",
     "metadata": {},
     "outputs": [
      {
       "metadata": {},
       "output_type": "pyout",
       "prompt_number": 150,
       "text": [
        "pandas.tslib.Timestamp"
       ]
      }
     ],
     "prompt_number": 150
    },
    {
     "cell_type": "code",
     "collapsed": false,
     "input": [
      "los_ptd = outtime_ts - intime_ts\n",
      "print (los_ptd)\n",
      "type(los_ptd)"
     ],
     "language": "python",
     "metadata": {},
     "outputs": [
      {
       "output_type": "stream",
       "stream": "stdout",
       "text": [
        "0:55:00\n"
       ]
      },
      {
       "metadata": {},
       "output_type": "pyout",
       "prompt_number": 151,
       "text": [
        "datetime.timedelta"
       ]
      }
     ],
     "prompt_number": 151
    },
    {
     "cell_type": "code",
     "collapsed": false,
     "input": [
      "# The pandas Timestamp data type has a number of useful attributes (dayofweek, dayofyear, weekofyear)\n",
      "#   that the base Python datetime type does not.\n",
      "print ('Datetime: {}'.format(intime_ts))\n",
      "print ('Date: {}'.format(intime_ts.date()))\n",
      "print ('Month: {}'.format(intime_ts.month))\n",
      "print ('Day: {}'.format(intime_ts.day))\n",
      "print ('DayOfWeek: {}'.format(intime_ts.dayofweek))\n",
      "print ('Weekday: {}'.format(intime_ts.weekday()))\n",
      "print ('DayOfYear: {}'.format(intime_ts.dayofyear))\n",
      "print ('WeekOfYear: {}'.format(intime_ts.weekofyear))\n",
      "print ('Quarter: {}'.format(intime_ts.quarter))\n",
      "print ('Hour: {}'.format(intime_ts.hour))\n",
      "print ('Minute: {}'.format(intime_ts.minute))\n",
      "print ('Second: {}'.format(intime_ts.second))\n",
      "print ('Microsecond: {}'.format(intime_ts.microsecond))"
     ],
     "language": "python",
     "metadata": {},
     "outputs": [
      {
       "output_type": "stream",
       "stream": "stdout",
       "text": [
        "Datetime: 2012-05-01 08:30:00\n",
        "Date: 2012-05-01\n",
        "Month: 5\n",
        "Day: 1\n",
        "DayOfWeek: 1\n",
        "Weekday: 1\n",
        "DayOfYear: 122\n",
        "WeekOfYear: 18\n",
        "Quarter: 2\n",
        "Hour: 8\n",
        "Minute: 30\n",
        "Second: 0\n",
        "Microsecond: 0\n"
       ]
      }
     ],
     "prompt_number": 152
    },
    {
     "cell_type": "code",
     "collapsed": false,
     "input": [
      "print ('Timedelta: {}'.format(los_ptd))\n",
      "print ('Days: {}'.format(los_ptd.days))\n",
      "print ('Seconds: {}'.format(los_ptd.seconds))\n",
      "print ('Total Seconds: {}'.format(los_ptd.total_seconds()))\n",
      "print ('Microseconds: {}'.format(los_ptd.microseconds))\n",
      "print ('Resolution: {}'.format(los_ptd.resolution))\n",
      "print ('Min: {}'.format(los_ptd.min))\n",
      "print ('Max: {}'.format(los_ptd.max))"
     ],
     "language": "python",
     "metadata": {},
     "outputs": [
      {
       "output_type": "stream",
       "stream": "stdout",
       "text": [
        "Timedelta: 0:55:00\n",
        "Days: 0\n",
        "Seconds: 3300\n",
        "Total Seconds: 3300.0\n",
        "Microseconds: 0\n",
        "Resolution: 0:00:00.000001\n",
        "Min: -999999999 days, 0:00:00\n",
        "Max: 999999999 days, 23:59:59.999999\n"
       ]
      }
     ],
     "prompt_number": 153
    },
    {
     "cell_type": "markdown",
     "metadata": {},
     "source": [
      "### Conversion from numpy.datetime64 to pd.Timestamp\n",
      "\n",
      "A big (potential) problem is trying to convert from numpy.datetime64 to pd.Timestamp. Seemingly strange things happened when I tried this using the `to_list` method of numpy.datetime64 objects. After much reading of the [\"Welcome to Hell\" SO post](http://stackoverflow.com/questions/13703720/converting-between-datetime-timestamp-and-datetime64) and some experimenting and a more careful reading of the numpy docs (\"ISO 8601 specifies to use the local time zone if none is explicitly given:\"), I think we have an answer."
     ]
    },
    {
     "cell_type": "markdown",
     "metadata": {},
     "source": [
      "So, by default, numpy assumes a naively specified datetime is in **local time**."
     ]
    },
    {
     "cell_type": "code",
     "collapsed": false,
     "input": [
      "dt64 = np.datetime64('2014-06-01 08:30:00')\n",
      "dt64"
     ],
     "language": "python",
     "metadata": {},
     "outputs": [
      {
       "metadata": {},
       "output_type": "pyout",
       "prompt_number": 154,
       "text": [
        "numpy.datetime64('2014-06-01T08:30:00-0400')"
       ]
      }
     ],
     "prompt_number": 154
    },
    {
     "cell_type": "markdown",
     "metadata": {},
     "source": [
      "If we use it's .tolist() method or pass it in to pandas Timestamp() constructor, we get UTC!"
     ]
    },
    {
     "cell_type": "code",
     "collapsed": false,
     "input": [
      "dt64.tolist()"
     ],
     "language": "python",
     "metadata": {},
     "outputs": [
      {
       "metadata": {},
       "output_type": "pyout",
       "prompt_number": 155,
       "text": [
        "datetime.datetime(2014, 6, 1, 12, 30)"
       ]
      }
     ],
     "prompt_number": 155
    },
    {
     "cell_type": "code",
     "collapsed": false,
     "input": [
      "ts = pd.Timestamp(dt64)\n",
      "ts"
     ],
     "language": "python",
     "metadata": {},
     "outputs": [
      {
       "metadata": {},
       "output_type": "pyout",
       "prompt_number": 156,
       "text": [
        "Timestamp('2014-06-01 12:30:00', tz=None)"
       ]
      }
     ],
     "prompt_number": 156
    },
    {
     "cell_type": "markdown",
     "metadata": {},
     "source": [
      "If you were doing a bunch of bulk data transformation work, you might easily miss this subtlety and end up with your date time stats all staggered off by a few hours. Some more fun conversions are shown below."
     ]
    },
    {
     "cell_type": "code",
     "collapsed": false,
     "input": [
      "dt = ts.to_datetime()\n",
      "dt"
     ],
     "language": "python",
     "metadata": {},
     "outputs": [
      {
       "metadata": {},
       "output_type": "pyout",
       "prompt_number": 157,
       "text": [
        "datetime.datetime(2014, 6, 1, 12, 30)"
       ]
      }
     ],
     "prompt_number": 157
    },
    {
     "cell_type": "markdown",
     "metadata": {},
     "source": [
      "... and if we try a \"roundtrip\" from numpy to Pandas to datetime and back, we actually end up where we started."
     ]
    },
    {
     "cell_type": "code",
     "collapsed": false,
     "input": [
      "np.datetime64(dt)"
     ],
     "language": "python",
     "metadata": {},
     "outputs": [
      {
       "metadata": {},
       "output_type": "pyout",
       "prompt_number": 158,
       "text": [
        "numpy.datetime64('2014-06-01T08:30:00.000000-0400')"
       ]
      }
     ],
     "prompt_number": 158
    },
    {
     "cell_type": "markdown",
     "metadata": {},
     "source": [
      "Appears this is quite a topic of [discussion in the numpy community](http://numpy-discussion.10968.n7.nabble.com/Time-Zones-and-datetime64-td33568.html) based on [this discussion thread](http://mail.scipy.org/pipermail/numpy-discussion/2013-April/066038.html). "
     ]
    },
    {
     "cell_type": "markdown",
     "metadata": {},
     "source": [
      "Pandas and time series\n",
      "----------------------\n",
      "\n",
      "Generally, a time series in pandas is a `Series` object with a `DateTimeIndex`. Pandas has convenience functions for creating time series indexes. The default frequency for date_range is a calendar day while the default for bdate_range is a business day"
     ]
    },
    {
     "cell_type": "code",
     "collapsed": false,
     "input": [
      "index = pd.date_range('2000-1-1', periods=1000, freq='M')"
     ],
     "language": "python",
     "metadata": {},
     "outputs": [],
     "prompt_number": 159
    },
    {
     "cell_type": "code",
     "collapsed": false,
     "input": [
      "index"
     ],
     "language": "python",
     "metadata": {},
     "outputs": [
      {
       "metadata": {},
       "output_type": "pyout",
       "prompt_number": 160,
       "text": [
        "<class 'pandas.tseries.index.DatetimeIndex'>\n",
        "[2000-01-31, ..., 2083-04-30]\n",
        "Length: 1000, Freq: M, Timezone: None"
       ]
      }
     ],
     "prompt_number": 160
    },
    {
     "cell_type": "code",
     "collapsed": false,
     "input": [
      "start = datetime(2014, 1, 1)\n",
      "end = datetime(2014, 6, 12)\n",
      "rng = pd.date_range(start, end)\n",
      "rng"
     ],
     "language": "python",
     "metadata": {},
     "outputs": [
      {
       "metadata": {},
       "output_type": "pyout",
       "prompt_number": 161,
       "text": [
        "<class 'pandas.tseries.index.DatetimeIndex'>\n",
        "[2014-01-01, ..., 2014-06-12]\n",
        "Length: 163, Freq: D, Timezone: None"
       ]
      }
     ],
     "prompt_number": 161
    },
    {
     "cell_type": "code",
     "collapsed": false,
     "input": [
      "pd.date_range(start, end, freq='W')"
     ],
     "language": "python",
     "metadata": {},
     "outputs": [
      {
       "metadata": {},
       "output_type": "pyout",
       "prompt_number": 162,
       "text": [
        "<class 'pandas.tseries.index.DatetimeIndex'>\n",
        "[2014-01-05, ..., 2014-06-08]\n",
        "Length: 23, Freq: W-SUN, Timezone: None"
       ]
      }
     ],
     "prompt_number": 162
    },
    {
     "cell_type": "code",
     "collapsed": false,
     "input": [
      "data = np.random.randint(1, 100, size=163)"
     ],
     "language": "python",
     "metadata": {},
     "outputs": [],
     "prompt_number": 163
    },
    {
     "cell_type": "code",
     "collapsed": false,
     "input": [
      "df = DataFrame(data, index=rng)"
     ],
     "language": "python",
     "metadata": {},
     "outputs": [],
     "prompt_number": 164
    },
    {
     "cell_type": "code",
     "collapsed": false,
     "input": [
      "df.head()"
     ],
     "language": "python",
     "metadata": {},
     "outputs": [
      {
       "html": [
        "<div style=\"max-height:1000px;max-width:1500px;overflow:auto;\">\n",
        "<table border=\"1\" class=\"dataframe\">\n",
        "  <thead>\n",
        "    <tr style=\"text-align: right;\">\n",
        "      <th></th>\n",
        "      <th>0</th>\n",
        "    </tr>\n",
        "  </thead>\n",
        "  <tbody>\n",
        "    <tr>\n",
        "      <th>2014-01-01</th>\n",
        "      <td> 18</td>\n",
        "    </tr>\n",
        "    <tr>\n",
        "      <th>2014-01-02</th>\n",
        "      <td>  9</td>\n",
        "    </tr>\n",
        "    <tr>\n",
        "      <th>2014-01-03</th>\n",
        "      <td> 69</td>\n",
        "    </tr>\n",
        "    <tr>\n",
        "      <th>2014-01-04</th>\n",
        "      <td> 44</td>\n",
        "    </tr>\n",
        "    <tr>\n",
        "      <th>2014-01-05</th>\n",
        "      <td> 75</td>\n",
        "    </tr>\n",
        "  </tbody>\n",
        "</table>\n",
        "<p>5 rows \u00d7 1 columns</p>\n",
        "</div>"
       ],
       "metadata": {},
       "output_type": "pyout",
       "prompt_number": 165,
       "text": [
        "             0\n",
        "2014-01-01  18\n",
        "2014-01-02   9\n",
        "2014-01-03  69\n",
        "2014-01-04  44\n",
        "2014-01-05  75\n",
        "\n",
        "[5 rows x 1 columns]"
       ]
      }
     ],
     "prompt_number": 165
    },
    {
     "cell_type": "code",
     "collapsed": false,
     "input": [
      "# Date index slicing is easy but, BE CAREFUL, the end point is included (unlike usual Python slicing behavior).\n",
      "df['2014-01-02':'2014-01-12']"
     ],
     "language": "python",
     "metadata": {},
     "outputs": [
      {
       "html": [
        "<div style=\"max-height:1000px;max-width:1500px;overflow:auto;\">\n",
        "<table border=\"1\" class=\"dataframe\">\n",
        "  <thead>\n",
        "    <tr style=\"text-align: right;\">\n",
        "      <th></th>\n",
        "      <th>0</th>\n",
        "    </tr>\n",
        "  </thead>\n",
        "  <tbody>\n",
        "    <tr>\n",
        "      <th>2014-01-02</th>\n",
        "      <td>  9</td>\n",
        "    </tr>\n",
        "    <tr>\n",
        "      <th>2014-01-03</th>\n",
        "      <td> 69</td>\n",
        "    </tr>\n",
        "    <tr>\n",
        "      <th>2014-01-04</th>\n",
        "      <td> 44</td>\n",
        "    </tr>\n",
        "    <tr>\n",
        "      <th>2014-01-05</th>\n",
        "      <td> 75</td>\n",
        "    </tr>\n",
        "    <tr>\n",
        "      <th>2014-01-06</th>\n",
        "      <td> 96</td>\n",
        "    </tr>\n",
        "    <tr>\n",
        "      <th>2014-01-07</th>\n",
        "      <td> 87</td>\n",
        "    </tr>\n",
        "    <tr>\n",
        "      <th>2014-01-08</th>\n",
        "      <td>  2</td>\n",
        "    </tr>\n",
        "    <tr>\n",
        "      <th>2014-01-09</th>\n",
        "      <td> 69</td>\n",
        "    </tr>\n",
        "    <tr>\n",
        "      <th>2014-01-10</th>\n",
        "      <td> 76</td>\n",
        "    </tr>\n",
        "    <tr>\n",
        "      <th>2014-01-11</th>\n",
        "      <td> 90</td>\n",
        "    </tr>\n",
        "    <tr>\n",
        "      <th>2014-01-12</th>\n",
        "      <td> 31</td>\n",
        "    </tr>\n",
        "  </tbody>\n",
        "</table>\n",
        "<p>11 rows \u00d7 1 columns</p>\n",
        "</div>"
       ],
       "metadata": {},
       "output_type": "pyout",
       "prompt_number": 166,
       "text": [
        "             0\n",
        "2014-01-02   9\n",
        "2014-01-03  69\n",
        "2014-01-04  44\n",
        "2014-01-05  75\n",
        "2014-01-06  96\n",
        "2014-01-07  87\n",
        "2014-01-08   2\n",
        "2014-01-09  69\n",
        "2014-01-10  76\n",
        "2014-01-11  90\n",
        "2014-01-12  31\n",
        "\n",
        "[11 rows x 1 columns]"
       ]
      }
     ],
     "prompt_number": 166
    },
    {
     "cell_type": "code",
     "collapsed": false,
     "input": [
      "df[datetime(2014,1,2):datetime(2014,1,12)]"
     ],
     "language": "python",
     "metadata": {},
     "outputs": [
      {
       "html": [
        "<div style=\"max-height:1000px;max-width:1500px;overflow:auto;\">\n",
        "<table border=\"1\" class=\"dataframe\">\n",
        "  <thead>\n",
        "    <tr style=\"text-align: right;\">\n",
        "      <th></th>\n",
        "      <th>0</th>\n",
        "    </tr>\n",
        "  </thead>\n",
        "  <tbody>\n",
        "    <tr>\n",
        "      <th>2014-01-02</th>\n",
        "      <td>  9</td>\n",
        "    </tr>\n",
        "    <tr>\n",
        "      <th>2014-01-03</th>\n",
        "      <td> 69</td>\n",
        "    </tr>\n",
        "    <tr>\n",
        "      <th>2014-01-04</th>\n",
        "      <td> 44</td>\n",
        "    </tr>\n",
        "    <tr>\n",
        "      <th>2014-01-05</th>\n",
        "      <td> 75</td>\n",
        "    </tr>\n",
        "    <tr>\n",
        "      <th>2014-01-06</th>\n",
        "      <td> 96</td>\n",
        "    </tr>\n",
        "    <tr>\n",
        "      <th>2014-01-07</th>\n",
        "      <td> 87</td>\n",
        "    </tr>\n",
        "    <tr>\n",
        "      <th>2014-01-08</th>\n",
        "      <td>  2</td>\n",
        "    </tr>\n",
        "    <tr>\n",
        "      <th>2014-01-09</th>\n",
        "      <td> 69</td>\n",
        "    </tr>\n",
        "    <tr>\n",
        "      <th>2014-01-10</th>\n",
        "      <td> 76</td>\n",
        "    </tr>\n",
        "    <tr>\n",
        "      <th>2014-01-11</th>\n",
        "      <td> 90</td>\n",
        "    </tr>\n",
        "    <tr>\n",
        "      <th>2014-01-12</th>\n",
        "      <td> 31</td>\n",
        "    </tr>\n",
        "  </tbody>\n",
        "</table>\n",
        "<p>11 rows \u00d7 1 columns</p>\n",
        "</div>"
       ],
       "metadata": {},
       "output_type": "pyout",
       "prompt_number": 167,
       "text": [
        "             0\n",
        "2014-01-02   9\n",
        "2014-01-03  69\n",
        "2014-01-04  44\n",
        "2014-01-05  75\n",
        "2014-01-06  96\n",
        "2014-01-07  87\n",
        "2014-01-08   2\n",
        "2014-01-09  69\n",
        "2014-01-10  76\n",
        "2014-01-11  90\n",
        "2014-01-12  31\n",
        "\n",
        "[11 rows x 1 columns]"
       ]
      }
     ],
     "prompt_number": 167
    },
    {
     "cell_type": "markdown",
     "metadata": {},
     "source": [
      "### Pandas `DateOffset` objects"
     ]
    },
    {
     "cell_type": "markdown",
     "metadata": {},
     "source": [
      "Usually *base frequencies* are specified with a string alias such as 'W' or 'M'. However, "
     ]
    },
    {
     "cell_type": "code",
     "collapsed": false,
     "input": [
      "rng2 = pd.date_range(start, end, freq='M')"
     ],
     "language": "python",
     "metadata": {},
     "outputs": [],
     "prompt_number": 168
    },
    {
     "cell_type": "code",
     "collapsed": false,
     "input": [
      "len(rng2)"
     ],
     "language": "python",
     "metadata": {},
     "outputs": [
      {
       "metadata": {},
       "output_type": "pyout",
       "prompt_number": 169,
       "text": [
        "5"
       ]
      }
     ],
     "prompt_number": 169
    },
    {
     "cell_type": "code",
     "collapsed": false,
     "input": [
      "data[:len(rng2)]"
     ],
     "language": "python",
     "metadata": {},
     "outputs": [
      {
       "metadata": {},
       "output_type": "pyout",
       "prompt_number": 170,
       "text": [
        "array([18,  9, 69, 44, 75])"
       ]
      }
     ],
     "prompt_number": 170
    },
    {
     "cell_type": "code",
     "collapsed": false,
     "input": [
      "df2 = DataFrame(data[:len(rng2)], index=rng2)"
     ],
     "language": "python",
     "metadata": {},
     "outputs": [],
     "prompt_number": 171
    },
    {
     "cell_type": "code",
     "collapsed": false,
     "input": [
      "df2"
     ],
     "language": "python",
     "metadata": {},
     "outputs": [
      {
       "html": [
        "<div style=\"max-height:1000px;max-width:1500px;overflow:auto;\">\n",
        "<table border=\"1\" class=\"dataframe\">\n",
        "  <thead>\n",
        "    <tr style=\"text-align: right;\">\n",
        "      <th></th>\n",
        "      <th>0</th>\n",
        "    </tr>\n",
        "  </thead>\n",
        "  <tbody>\n",
        "    <tr>\n",
        "      <th>2014-01-31</th>\n",
        "      <td> 18</td>\n",
        "    </tr>\n",
        "    <tr>\n",
        "      <th>2014-02-28</th>\n",
        "      <td>  9</td>\n",
        "    </tr>\n",
        "    <tr>\n",
        "      <th>2014-03-31</th>\n",
        "      <td> 69</td>\n",
        "    </tr>\n",
        "    <tr>\n",
        "      <th>2014-04-30</th>\n",
        "      <td> 44</td>\n",
        "    </tr>\n",
        "    <tr>\n",
        "      <th>2014-05-31</th>\n",
        "      <td> 75</td>\n",
        "    </tr>\n",
        "  </tbody>\n",
        "</table>\n",
        "<p>5 rows \u00d7 1 columns</p>\n",
        "</div>"
       ],
       "metadata": {},
       "output_type": "pyout",
       "prompt_number": 172,
       "text": [
        "             0\n",
        "2014-01-31  18\n",
        "2014-02-28   9\n",
        "2014-03-31  69\n",
        "2014-04-30  44\n",
        "2014-05-31  75\n",
        "\n",
        "[5 rows x 1 columns]"
       ]
      }
     ],
     "prompt_number": 172
    },
    {
     "cell_type": "code",
     "collapsed": false,
     "input": [
      "from pandas.tseries.offsets import Hour, Minute\n",
      "#We rarely use these but they are available"
     ],
     "language": "python",
     "metadata": {},
     "outputs": [],
     "prompt_number": 173
    },
    {
     "cell_type": "code",
     "collapsed": false,
     "input": [
      "one_hour = Hour()\n",
      "four_hours = Hour(4)"
     ],
     "language": "python",
     "metadata": {},
     "outputs": [],
     "prompt_number": 174
    },
    {
     "cell_type": "code",
     "collapsed": false,
     "input": [
      "one_hour + four_hours"
     ],
     "language": "python",
     "metadata": {},
     "outputs": [
      {
       "metadata": {},
       "output_type": "pyout",
       "prompt_number": 175,
       "text": [
        "<5 * Hours>"
       ]
      }
     ],
     "prompt_number": 175
    },
    {
     "cell_type": "code",
     "collapsed": false,
     "input": [
      "one_hour + Minute(35)"
     ],
     "language": "python",
     "metadata": {},
     "outputs": [
      {
       "metadata": {},
       "output_type": "pyout",
       "prompt_number": 176,
       "text": [
        "<95 * Minutes>"
       ]
      }
     ],
     "prompt_number": 176
    },
    {
     "cell_type": "markdown",
     "metadata": {},
     "source": [
      "### Week of month dates\n",
      "\n"
     ]
    },
    {
     "cell_type": "code",
     "collapsed": false,
     "input": [
      "rng = pd.date_range('9/1/2012','1/1/2014',freq='M')"
     ],
     "language": "python",
     "metadata": {},
     "outputs": [],
     "prompt_number": 177
    },
    {
     "cell_type": "code",
     "collapsed": false,
     "input": [
      "rng"
     ],
     "language": "python",
     "metadata": {},
     "outputs": [
      {
       "metadata": {},
       "output_type": "pyout",
       "prompt_number": 178,
       "text": [
        "<class 'pandas.tseries.index.DatetimeIndex'>\n",
        "[2012-09-30, ..., 2013-12-31]\n",
        "Length: 16, Freq: M, Timezone: None"
       ]
      }
     ],
     "prompt_number": 178
    },
    {
     "cell_type": "code",
     "collapsed": false,
     "input": [
      "list(rng)"
     ],
     "language": "python",
     "metadata": {},
     "outputs": [
      {
       "metadata": {},
       "output_type": "pyout",
       "prompt_number": 179,
       "text": [
        "[Timestamp('2012-09-30 00:00:00', tz=None),\n",
        " Timestamp('2012-10-31 00:00:00', tz=None),\n",
        " Timestamp('2012-11-30 00:00:00', tz=None),\n",
        " Timestamp('2012-12-31 00:00:00', tz=None),\n",
        " Timestamp('2013-01-31 00:00:00', tz=None),\n",
        " Timestamp('2013-02-28 00:00:00', tz=None),\n",
        " Timestamp('2013-03-31 00:00:00', tz=None),\n",
        " Timestamp('2013-04-30 00:00:00', tz=None),\n",
        " Timestamp('2013-05-31 00:00:00', tz=None),\n",
        " Timestamp('2013-06-30 00:00:00', tz=None),\n",
        " Timestamp('2013-07-31 00:00:00', tz=None),\n",
        " Timestamp('2013-08-31 00:00:00', tz=None),\n",
        " Timestamp('2013-09-30 00:00:00', tz=None),\n",
        " Timestamp('2013-10-31 00:00:00', tz=None),\n",
        " Timestamp('2013-11-30 00:00:00', tz=None),\n",
        " Timestamp('2013-12-31 00:00:00', tz=None)]"
       ]
      }
     ],
     "prompt_number": 179
    },
    {
     "cell_type": "code",
     "collapsed": false,
     "input": [
      "rng = pd.date_range('9/1/2012','1/1/2014',freq='WOM-2TUE')"
     ],
     "language": "python",
     "metadata": {},
     "outputs": [],
     "prompt_number": 180
    },
    {
     "cell_type": "code",
     "collapsed": false,
     "input": [
      "list(rng)"
     ],
     "language": "python",
     "metadata": {},
     "outputs": [
      {
       "metadata": {},
       "output_type": "pyout",
       "prompt_number": 181,
       "text": [
        "[Timestamp('2012-09-11 00:00:00', tz=None),\n",
        " Timestamp('2012-10-09 00:00:00', tz=None),\n",
        " Timestamp('2012-11-13 00:00:00', tz=None),\n",
        " Timestamp('2012-12-11 00:00:00', tz=None),\n",
        " Timestamp('2013-01-08 00:00:00', tz=None),\n",
        " Timestamp('2013-02-12 00:00:00', tz=None),\n",
        " Timestamp('2013-03-12 00:00:00', tz=None),\n",
        " Timestamp('2013-04-09 00:00:00', tz=None),\n",
        " Timestamp('2013-05-14 00:00:00', tz=None),\n",
        " Timestamp('2013-06-11 00:00:00', tz=None),\n",
        " Timestamp('2013-07-09 00:00:00', tz=None),\n",
        " Timestamp('2013-08-13 00:00:00', tz=None),\n",
        " Timestamp('2013-09-10 00:00:00', tz=None),\n",
        " Timestamp('2013-10-08 00:00:00', tz=None),\n",
        " Timestamp('2013-11-12 00:00:00', tz=None),\n",
        " Timestamp('2013-12-10 00:00:00', tz=None)]"
       ]
      }
     ],
     "prompt_number": 181
    },
    {
     "cell_type": "markdown",
     "metadata": {},
     "source": [
      "Shifting (Leading and Lagging) Data\n",
      "------------------------------------\n",
      "\n",
      "Move data back and forth through time. `Series` and `DateFrame` objects have a `shift` method for doing naive shifts forward and backward and leaving the index unchanged."
     ]
    },
    {
     "cell_type": "code",
     "collapsed": false,
     "input": [
      "ts = Series(np.random.randint(1,10,4),index = pd.date_range('1/2/2013',periods=4,freq='M'))\n",
      "ts"
     ],
     "language": "python",
     "metadata": {},
     "outputs": [
      {
       "metadata": {},
       "output_type": "pyout",
       "prompt_number": 182,
       "text": [
        "2013-01-31    3\n",
        "2013-02-28    9\n",
        "2013-03-31    1\n",
        "2013-04-30    1\n",
        "Freq: M, dtype: int32"
       ]
      }
     ],
     "prompt_number": 182
    },
    {
     "cell_type": "code",
     "collapsed": false,
     "input": [
      "ts.shift(periods = 2)"
     ],
     "language": "python",
     "metadata": {},
     "outputs": [
      {
       "metadata": {},
       "output_type": "pyout",
       "prompt_number": 183,
       "text": [
        "2013-01-31   NaN\n",
        "2013-02-28   NaN\n",
        "2013-03-31     3\n",
        "2013-04-30     9\n",
        "Freq: M, dtype: float64"
       ]
      }
     ],
     "prompt_number": 183
    },
    {
     "cell_type": "code",
     "collapsed": false,
     "input": [
      "# Common use is pct change\n",
      "ts/ts.shift(1) - 1.0"
     ],
     "language": "python",
     "metadata": {},
     "outputs": [
      {
       "metadata": {},
       "output_type": "pyout",
       "prompt_number": 184,
       "text": [
        "2013-01-31         NaN\n",
        "2013-02-28    2.000000\n",
        "2013-03-31   -0.888889\n",
        "2013-04-30    0.000000\n",
        "Freq: M, dtype: float64"
       ]
      }
     ],
     "prompt_number": 184
    },
    {
     "cell_type": "code",
     "collapsed": false,
     "input": [
      "# Since naive shifts leave index unchanged, some data is lost. To shift both data and index, pass in the frequency\n",
      "ts.shift(1)"
     ],
     "language": "python",
     "metadata": {},
     "outputs": [
      {
       "metadata": {},
       "output_type": "pyout",
       "prompt_number": 185,
       "text": [
        "2013-01-31   NaN\n",
        "2013-02-28     3\n",
        "2013-03-31     9\n",
        "2013-04-30     1\n",
        "Freq: M, dtype: float64"
       ]
      }
     ],
     "prompt_number": 185
    },
    {
     "cell_type": "code",
     "collapsed": false,
     "input": [
      "ts.shift(1, freq='M')"
     ],
     "language": "python",
     "metadata": {},
     "outputs": [
      {
       "metadata": {},
       "output_type": "pyout",
       "prompt_number": 186,
       "text": [
        "2013-02-28    3\n",
        "2013-03-31    9\n",
        "2013-04-30    1\n",
        "2013-05-31    1\n",
        "Freq: M, dtype: int32"
       ]
      }
     ],
     "prompt_number": 186
    },
    {
     "cell_type": "markdown",
     "metadata": {},
     "source": [
      "Periods and period arithmetic\n",
      "------------------------------\n",
      "\n",
      "Periods represent time spans like months or quarters or years."
     ]
    },
    {
     "cell_type": "code",
     "collapsed": false,
     "input": [
      "p = pd.Period('6/1/2014',freq='M')\n",
      "p"
     ],
     "language": "python",
     "metadata": {},
     "outputs": [
      {
       "metadata": {},
       "output_type": "pyout",
       "prompt_number": 187,
       "text": [
        "Period('2014-06', 'M')"
       ]
      }
     ],
     "prompt_number": 187
    },
    {
     "cell_type": "code",
     "collapsed": false,
     "input": [
      "p+6"
     ],
     "language": "python",
     "metadata": {},
     "outputs": [
      {
       "metadata": {},
       "output_type": "pyout",
       "prompt_number": 188,
       "text": [
        "Period('2014-12', 'M')"
       ]
      }
     ],
     "prompt_number": 188
    },
    {
     "cell_type": "code",
     "collapsed": false,
     "input": [
      "# Ranges of periods is done much like ranges of dates\n",
      "rng = pd.period_range('1/1/2010','6/1/2014',freq='Q')"
     ],
     "language": "python",
     "metadata": {},
     "outputs": [],
     "prompt_number": 189
    },
    {
     "cell_type": "code",
     "collapsed": false,
     "input": [
      "rng"
     ],
     "language": "python",
     "metadata": {},
     "outputs": [
      {
       "metadata": {},
       "output_type": "pyout",
       "prompt_number": 190,
       "text": [
        "<class 'pandas.tseries.period.PeriodIndex'>\n",
        "freq: Q-DEC\n",
        "[2010Q1, ..., 2014Q2]\n",
        "length: 18"
       ]
      }
     ],
     "prompt_number": 190
    },
    {
     "cell_type": "code",
     "collapsed": false,
     "input": [
      "list(rng)"
     ],
     "language": "python",
     "metadata": {},
     "outputs": [
      {
       "metadata": {},
       "output_type": "pyout",
       "prompt_number": 191,
       "text": [
        "[Period('2010Q1', 'Q-DEC'),\n",
        " Period('2010Q2', 'Q-DEC'),\n",
        " Period('2010Q3', 'Q-DEC'),\n",
        " Period('2010Q4', 'Q-DEC'),\n",
        " Period('2011Q1', 'Q-DEC'),\n",
        " Period('2011Q2', 'Q-DEC'),\n",
        " Period('2011Q3', 'Q-DEC'),\n",
        " Period('2011Q4', 'Q-DEC'),\n",
        " Period('2012Q1', 'Q-DEC'),\n",
        " Period('2012Q2', 'Q-DEC'),\n",
        " Period('2012Q3', 'Q-DEC'),\n",
        " Period('2012Q4', 'Q-DEC'),\n",
        " Period('2013Q1', 'Q-DEC'),\n",
        " Period('2013Q2', 'Q-DEC'),\n",
        " Period('2013Q3', 'Q-DEC'),\n",
        " Period('2013Q4', 'Q-DEC'),\n",
        " Period('2014Q1', 'Q-DEC'),\n",
        " Period('2014Q2', 'Q-DEC')]"
       ]
      }
     ],
     "prompt_number": 191
    },
    {
     "cell_type": "code",
     "collapsed": false,
     "input": [
      "p.asfreq('M','start')"
     ],
     "language": "python",
     "metadata": {},
     "outputs": [
      {
       "metadata": {},
       "output_type": "pyout",
       "prompt_number": 192,
       "text": [
        "Period('2014-06', 'M')"
       ]
      }
     ],
     "prompt_number": 192
    },
    {
     "cell_type": "code",
     "collapsed": false,
     "input": [
      "p.asfreq('M','end')"
     ],
     "language": "python",
     "metadata": {},
     "outputs": [
      {
       "metadata": {},
       "output_type": "pyout",
       "prompt_number": 193,
       "text": [
        "Period('2014-06', 'M')"
       ]
      }
     ],
     "prompt_number": 193
    },
    {
     "cell_type": "markdown",
     "metadata": {},
     "source": [
      "Resampling and frequency conversion\n",
      "-----------------------------------\n",
      "\n",
      "*Resampling* - convert time series from one frequency to another.\n",
      "\n",
      "- *Downsampling* - higher frequency to lower frequency (e.g. daily to monthly)\n",
      "- *Upsampling* - lower frequency to higher frequency (e.g. annual to monthly)\n"
     ]
    },
    {
     "cell_type": "markdown",
     "metadata": {},
     "source": [
      "### Downsampling\n",
      "\n",
      "Take a daily time series and convert to monthly.\n",
      "\n"
     ]
    },
    {
     "cell_type": "code",
     "collapsed": false,
     "input": [
      "rng = pd.date_range('9/1/2012',periods=100,freq='D')"
     ],
     "language": "python",
     "metadata": {},
     "outputs": [],
     "prompt_number": 194
    },
    {
     "cell_type": "code",
     "collapsed": false,
     "input": [
      "ts = Series(np.random.randint(1,25,len(rng)),index=rng)"
     ],
     "language": "python",
     "metadata": {},
     "outputs": [],
     "prompt_number": 195
    },
    {
     "cell_type": "code",
     "collapsed": false,
     "input": [
      "ts"
     ],
     "language": "python",
     "metadata": {},
     "outputs": [
      {
       "metadata": {},
       "output_type": "pyout",
       "prompt_number": 196,
       "text": [
        "2012-09-01    13\n",
        "2012-09-02    18\n",
        "2012-09-03     7\n",
        "2012-09-04    21\n",
        "2012-09-05    21\n",
        "2012-09-06    17\n",
        "2012-09-07    20\n",
        "2012-09-08    24\n",
        "2012-09-09    20\n",
        "2012-09-10     4\n",
        "2012-09-11    23\n",
        "2012-09-12    18\n",
        "2012-09-13    24\n",
        "2012-09-14    24\n",
        "2012-09-15     2\n",
        "...\n",
        "2012-11-25     3\n",
        "2012-11-26     6\n",
        "2012-11-27     2\n",
        "2012-11-28     2\n",
        "2012-11-29    10\n",
        "2012-11-30    18\n",
        "2012-12-01    19\n",
        "2012-12-02    24\n",
        "2012-12-03    15\n",
        "2012-12-04     3\n",
        "2012-12-05    13\n",
        "2012-12-06    14\n",
        "2012-12-07    13\n",
        "2012-12-08     2\n",
        "2012-12-09    21\n",
        "Freq: D, Length: 100"
       ]
      }
     ],
     "prompt_number": 196
    },
    {
     "cell_type": "code",
     "collapsed": false,
     "input": [
      "ts.resample('M',how='mean',kind='period')"
     ],
     "language": "python",
     "metadata": {},
     "outputs": [
      {
       "metadata": {},
       "output_type": "pyout",
       "prompt_number": 197,
       "text": [
        "2012-09    12.666667\n",
        "2012-10    12.806452\n",
        "2012-11    10.633333\n",
        "2012-12    13.777778\n",
        "Freq: M, dtype: float64"
       ]
      }
     ],
     "prompt_number": 197
    },
    {
     "cell_type": "code",
     "collapsed": false,
     "input": [
      "ts.resample('M',how='sum',kind='period')"
     ],
     "language": "python",
     "metadata": {},
     "outputs": [
      {
       "metadata": {},
       "output_type": "pyout",
       "prompt_number": 198,
       "text": [
        "2012-09    380\n",
        "2012-10    397\n",
        "2012-11    319\n",
        "2012-12    124\n",
        "Freq: M, dtype: int32"
       ]
      }
     ],
     "prompt_number": 198
    },
    {
     "cell_type": "code",
     "collapsed": false,
     "input": [
      "ts.resample('M',how='sum')"
     ],
     "language": "python",
     "metadata": {},
     "outputs": [
      {
       "metadata": {},
       "output_type": "pyout",
       "prompt_number": 199,
       "text": [
        "2012-09-30    380\n",
        "2012-10-31    397\n",
        "2012-11-30    319\n",
        "2012-12-31    124\n",
        "Freq: M, dtype: int32"
       ]
      }
     ],
     "prompt_number": 199
    },
    {
     "cell_type": "markdown",
     "metadata": {},
     "source": [
      "Whenver you are downsampling, you need to think about two *bin boundary* issues:\n",
      "\n",
      "* is the interval closed on the left or the right?\n",
      "* is the bin label based on the left or right bin boundary?\n",
      "\n",
      "With resampling from days to months, the question of left or right closure isn't really an issue, but consider changing from 15 minute time bins to 30 minute time bins."
     ]
    },
    {
     "cell_type": "code",
     "collapsed": false,
     "input": [
      "rng15 = pd.date_range('9/1/2012',periods=96,freq='15T')"
     ],
     "language": "python",
     "metadata": {},
     "outputs": [],
     "prompt_number": 200
    },
    {
     "cell_type": "code",
     "collapsed": false,
     "input": [
      "ts15 = Series(np.random.randint(1,25,len(rng15)),index=rng15)"
     ],
     "language": "python",
     "metadata": {},
     "outputs": [],
     "prompt_number": 201
    },
    {
     "cell_type": "code",
     "collapsed": false,
     "input": [
      "ts15"
     ],
     "language": "python",
     "metadata": {},
     "outputs": [
      {
       "metadata": {},
       "output_type": "pyout",
       "prompt_number": 202,
       "text": [
        "2012-09-01 00:00:00    16\n",
        "2012-09-01 00:15:00     7\n",
        "2012-09-01 00:30:00     4\n",
        "2012-09-01 00:45:00     7\n",
        "2012-09-01 01:00:00    18\n",
        "2012-09-01 01:15:00     1\n",
        "2012-09-01 01:30:00     4\n",
        "2012-09-01 01:45:00     7\n",
        "2012-09-01 02:00:00     7\n",
        "2012-09-01 02:15:00    22\n",
        "2012-09-01 02:30:00    24\n",
        "2012-09-01 02:45:00     6\n",
        "2012-09-01 03:00:00    22\n",
        "2012-09-01 03:15:00     5\n",
        "2012-09-01 03:30:00     1\n",
        "...\n",
        "2012-09-01 20:15:00    11\n",
        "2012-09-01 20:30:00     2\n",
        "2012-09-01 20:45:00     7\n",
        "2012-09-01 21:00:00    20\n",
        "2012-09-01 21:15:00     1\n",
        "2012-09-01 21:30:00    13\n",
        "2012-09-01 21:45:00     9\n",
        "2012-09-01 22:00:00     5\n",
        "2012-09-01 22:15:00    21\n",
        "2012-09-01 22:30:00    17\n",
        "2012-09-01 22:45:00    20\n",
        "2012-09-01 23:00:00    21\n",
        "2012-09-01 23:15:00    18\n",
        "2012-09-01 23:30:00    19\n",
        "2012-09-01 23:45:00    21\n",
        "Freq: 15T, Length: 96"
       ]
      }
     ],
     "prompt_number": 202
    },
    {
     "cell_type": "markdown",
     "metadata": {},
     "source": [
      "Now, if we resample to 30 minute bins and take the mean across each set of two 15 bins, we need to specify if the times on the half hour such as 22:30 in the original series should go in the bin from (22:15,22:30] or [22:30,22:45). The first is referred to as closed on the right and the second as closed on the left. The default is close on right. You can also control whether the left or right edge of the bin is used as the label (independent of which side \"closes\" the interval)."
     ]
    },
    {
     "cell_type": "code",
     "collapsed": false,
     "input": [
      "ts15.resample('30min',how='mean',closed='right',label='left')"
     ],
     "language": "python",
     "metadata": {},
     "outputs": [
      {
       "metadata": {},
       "output_type": "pyout",
       "prompt_number": 203,
       "text": [
        "2012-08-31 23:30:00    16.0\n",
        "2012-09-01 00:00:00     5.5\n",
        "2012-09-01 00:30:00    12.5\n",
        "2012-09-01 01:00:00     2.5\n",
        "2012-09-01 01:30:00     7.0\n",
        "2012-09-01 02:00:00    23.0\n",
        "2012-09-01 02:30:00    14.0\n",
        "2012-09-01 03:00:00     3.0\n",
        "2012-09-01 03:30:00    10.5\n",
        "2012-09-01 04:00:00    11.5\n",
        "2012-09-01 04:30:00    20.0\n",
        "2012-09-01 05:00:00    19.5\n",
        "2012-09-01 05:30:00    15.0\n",
        "2012-09-01 06:00:00    17.0\n",
        "2012-09-01 06:30:00    20.0\n",
        "2012-09-01 07:00:00     9.0\n",
        "2012-09-01 07:30:00    13.0\n",
        "2012-09-01 08:00:00    18.5\n",
        "2012-09-01 08:30:00    12.0\n",
        "2012-09-01 09:00:00     7.0\n",
        "2012-09-01 09:30:00    20.5\n",
        "2012-09-01 10:00:00    15.0\n",
        "2012-09-01 10:30:00     8.5\n",
        "2012-09-01 11:00:00    16.0\n",
        "2012-09-01 11:30:00    11.5\n",
        "2012-09-01 12:00:00    12.0\n",
        "2012-09-01 12:30:00    17.0\n",
        "2012-09-01 13:00:00    12.0\n",
        "2012-09-01 13:30:00     4.5\n",
        "2012-09-01 14:00:00    16.0\n",
        "2012-09-01 14:30:00    11.5\n",
        "2012-09-01 15:00:00     7.5\n",
        "2012-09-01 15:30:00    12.0\n",
        "2012-09-01 16:00:00     7.5\n",
        "2012-09-01 16:30:00     5.0\n",
        "2012-09-01 17:00:00    20.0\n",
        "2012-09-01 17:30:00    11.0\n",
        "2012-09-01 18:00:00    13.0\n",
        "2012-09-01 18:30:00    14.0\n",
        "2012-09-01 19:00:00    15.5\n",
        "2012-09-01 19:30:00    14.5\n",
        "2012-09-01 20:00:00     6.5\n",
        "2012-09-01 20:30:00    13.5\n",
        "2012-09-01 21:00:00     7.0\n",
        "2012-09-01 21:30:00     7.0\n",
        "2012-09-01 22:00:00    19.0\n",
        "2012-09-01 22:30:00    20.5\n",
        "2012-09-01 23:00:00    18.5\n",
        "2012-09-01 23:30:00    21.0\n",
        "Freq: 30T, dtype: float64"
       ]
      }
     ],
     "prompt_number": 203
    },
    {
     "cell_type": "markdown",
     "metadata": {},
     "source": [
      "Notice how in the example above, the first record is labelled with '2012-08-31' since it's the left boundary and we picked 'right' for closing intervals and 'left' for labelling. We might want to close and label on the left."
     ]
    },
    {
     "cell_type": "code",
     "collapsed": false,
     "input": [
      "ts30 = ts15.resample('30min',how='mean',closed='left',label='left')\n",
      "ts30"
     ],
     "language": "python",
     "metadata": {},
     "outputs": [
      {
       "metadata": {},
       "output_type": "pyout",
       "prompt_number": 204,
       "text": [
        "2012-09-01 00:00:00    11.5\n",
        "2012-09-01 00:30:00     5.5\n",
        "2012-09-01 01:00:00     9.5\n",
        "2012-09-01 01:30:00     5.5\n",
        "2012-09-01 02:00:00    14.5\n",
        "2012-09-01 02:30:00    15.0\n",
        "2012-09-01 03:00:00    13.5\n",
        "2012-09-01 03:30:00     2.0\n",
        "2012-09-01 04:00:00    13.0\n",
        "2012-09-01 04:30:00    17.5\n",
        "2012-09-01 05:00:00    22.0\n",
        "2012-09-01 05:30:00    17.5\n",
        "2012-09-01 06:00:00    13.5\n",
        "2012-09-01 06:30:00    16.5\n",
        "2012-09-01 07:00:00    20.0\n",
        "2012-09-01 07:30:00     4.0\n",
        "2012-09-01 08:00:00    20.0\n",
        "2012-09-01 08:30:00    20.0\n",
        "2012-09-01 09:00:00     3.0\n",
        "2012-09-01 09:30:00    13.0\n",
        "2012-09-01 10:00:00    18.0\n",
        "2012-09-01 10:30:00    14.5\n",
        "2012-09-01 11:00:00    11.5\n",
        "2012-09-01 11:30:00    14.0\n",
        "2012-09-01 12:00:00    12.0\n",
        "2012-09-01 12:30:00    14.0\n",
        "2012-09-01 13:00:00    11.0\n",
        "2012-09-01 13:30:00    12.5\n",
        "2012-09-01 14:00:00     9.5\n",
        "2012-09-01 14:30:00    16.5\n",
        "2012-09-01 15:00:00     7.0\n",
        "2012-09-01 15:30:00     3.5\n",
        "2012-09-01 16:00:00    12.5\n",
        "2012-09-01 16:30:00     8.5\n",
        "2012-09-01 17:00:00    14.5\n",
        "2012-09-01 17:30:00    18.5\n",
        "2012-09-01 18:00:00    13.0\n",
        "2012-09-01 18:30:00     9.5\n",
        "2012-09-01 19:00:00    13.5\n",
        "2012-09-01 19:30:00    12.0\n",
        "2012-09-01 20:00:00    15.5\n",
        "2012-09-01 20:30:00     4.5\n",
        "2012-09-01 21:00:00    10.5\n",
        "2012-09-01 21:30:00    11.0\n",
        "2012-09-01 22:00:00    13.0\n",
        "2012-09-01 22:30:00    18.5\n",
        "2012-09-01 23:00:00    19.5\n",
        "2012-09-01 23:30:00    20.0\n",
        "Freq: 30T, dtype: float64"
       ]
      }
     ],
     "prompt_number": 204
    },
    {
     "cell_type": "markdown",
     "metadata": {},
     "source": [
      "A common financial aggregation is to compute the first (open), last (close), max (high), min (low) values for each bucket. If you use 'ohlc' for the `how` argument, you get a `DataFrame` with these aggregations computed automatically."
     ]
    },
    {
     "cell_type": "code",
     "collapsed": false,
     "input": [
      "ts60 = ts15.resample('60min',how='ohlc',closed='left',label='left')\n",
      "ts60"
     ],
     "language": "python",
     "metadata": {},
     "outputs": [
      {
       "html": [
        "<div style=\"max-height:1000px;max-width:1500px;overflow:auto;\">\n",
        "<table border=\"1\" class=\"dataframe\">\n",
        "  <thead>\n",
        "    <tr style=\"text-align: right;\">\n",
        "      <th></th>\n",
        "      <th>open</th>\n",
        "      <th>high</th>\n",
        "      <th>low</th>\n",
        "      <th>close</th>\n",
        "    </tr>\n",
        "  </thead>\n",
        "  <tbody>\n",
        "    <tr>\n",
        "      <th>2012-09-01 00:00:00</th>\n",
        "      <td> 16</td>\n",
        "      <td> 16</td>\n",
        "      <td>  4</td>\n",
        "      <td>  7</td>\n",
        "    </tr>\n",
        "    <tr>\n",
        "      <th>2012-09-01 01:00:00</th>\n",
        "      <td> 18</td>\n",
        "      <td> 18</td>\n",
        "      <td>  1</td>\n",
        "      <td>  7</td>\n",
        "    </tr>\n",
        "    <tr>\n",
        "      <th>2012-09-01 02:00:00</th>\n",
        "      <td>  7</td>\n",
        "      <td> 24</td>\n",
        "      <td>  6</td>\n",
        "      <td>  6</td>\n",
        "    </tr>\n",
        "    <tr>\n",
        "      <th>2012-09-01 03:00:00</th>\n",
        "      <td> 22</td>\n",
        "      <td> 22</td>\n",
        "      <td>  1</td>\n",
        "      <td>  3</td>\n",
        "    </tr>\n",
        "    <tr>\n",
        "      <th>2012-09-01 04:00:00</th>\n",
        "      <td> 18</td>\n",
        "      <td> 20</td>\n",
        "      <td>  8</td>\n",
        "      <td> 20</td>\n",
        "    </tr>\n",
        "    <tr>\n",
        "      <th>2012-09-01 05:00:00</th>\n",
        "      <td> 20</td>\n",
        "      <td> 24</td>\n",
        "      <td> 15</td>\n",
        "      <td> 20</td>\n",
        "    </tr>\n",
        "    <tr>\n",
        "      <th>2012-09-01 06:00:00</th>\n",
        "      <td> 10</td>\n",
        "      <td> 17</td>\n",
        "      <td> 10</td>\n",
        "      <td> 16</td>\n",
        "    </tr>\n",
        "    <tr>\n",
        "      <th>2012-09-01 07:00:00</th>\n",
        "      <td> 24</td>\n",
        "      <td> 24</td>\n",
        "      <td>  2</td>\n",
        "      <td>  6</td>\n",
        "    </tr>\n",
        "    <tr>\n",
        "      <th>2012-09-01 08:00:00</th>\n",
        "      <td> 20</td>\n",
        "      <td> 23</td>\n",
        "      <td> 17</td>\n",
        "      <td> 23</td>\n",
        "    </tr>\n",
        "    <tr>\n",
        "      <th>2012-09-01 09:00:00</th>\n",
        "      <td>  1</td>\n",
        "      <td> 17</td>\n",
        "      <td>  1</td>\n",
        "      <td> 17</td>\n",
        "    </tr>\n",
        "    <tr>\n",
        "      <th>2012-09-01 10:00:00</th>\n",
        "      <td> 24</td>\n",
        "      <td> 24</td>\n",
        "      <td> 11</td>\n",
        "      <td> 11</td>\n",
        "    </tr>\n",
        "    <tr>\n",
        "      <th>2012-09-01 11:00:00</th>\n",
        "      <td>  6</td>\n",
        "      <td> 17</td>\n",
        "      <td>  6</td>\n",
        "      <td> 13</td>\n",
        "    </tr>\n",
        "    <tr>\n",
        "      <th>2012-09-01 12:00:00</th>\n",
        "      <td> 10</td>\n",
        "      <td> 18</td>\n",
        "      <td> 10</td>\n",
        "      <td> 18</td>\n",
        "    </tr>\n",
        "    <tr>\n",
        "      <th>2012-09-01 13:00:00</th>\n",
        "      <td> 16</td>\n",
        "      <td> 18</td>\n",
        "      <td>  6</td>\n",
        "      <td>  7</td>\n",
        "    </tr>\n",
        "    <tr>\n",
        "      <th>2012-09-01 14:00:00</th>\n",
        "      <td>  2</td>\n",
        "      <td> 18</td>\n",
        "      <td>  2</td>\n",
        "      <td> 18</td>\n",
        "    </tr>\n",
        "    <tr>\n",
        "      <th>2012-09-01 15:00:00</th>\n",
        "      <td>  5</td>\n",
        "      <td>  9</td>\n",
        "      <td>  1</td>\n",
        "      <td>  1</td>\n",
        "    </tr>\n",
        "    <tr>\n",
        "      <th>2012-09-01 16:00:00</th>\n",
        "      <td> 23</td>\n",
        "      <td> 23</td>\n",
        "      <td>  2</td>\n",
        "      <td>  4</td>\n",
        "    </tr>\n",
        "    <tr>\n",
        "      <th>2012-09-01 17:00:00</th>\n",
        "      <td>  6</td>\n",
        "      <td> 23</td>\n",
        "      <td>  6</td>\n",
        "      <td> 20</td>\n",
        "    </tr>\n",
        "    <tr>\n",
        "      <th>2012-09-01 18:00:00</th>\n",
        "      <td>  2</td>\n",
        "      <td> 24</td>\n",
        "      <td>  2</td>\n",
        "      <td> 17</td>\n",
        "    </tr>\n",
        "    <tr>\n",
        "      <th>2012-09-01 19:00:00</th>\n",
        "      <td> 11</td>\n",
        "      <td> 16</td>\n",
        "      <td>  9</td>\n",
        "      <td>  9</td>\n",
        "    </tr>\n",
        "    <tr>\n",
        "      <th>2012-09-01 20:00:00</th>\n",
        "      <td> 20</td>\n",
        "      <td> 20</td>\n",
        "      <td>  2</td>\n",
        "      <td>  7</td>\n",
        "    </tr>\n",
        "    <tr>\n",
        "      <th>2012-09-01 21:00:00</th>\n",
        "      <td> 20</td>\n",
        "      <td> 20</td>\n",
        "      <td>  1</td>\n",
        "      <td>  9</td>\n",
        "    </tr>\n",
        "    <tr>\n",
        "      <th>2012-09-01 22:00:00</th>\n",
        "      <td>  5</td>\n",
        "      <td> 21</td>\n",
        "      <td>  5</td>\n",
        "      <td> 20</td>\n",
        "    </tr>\n",
        "    <tr>\n",
        "      <th>2012-09-01 23:00:00</th>\n",
        "      <td> 21</td>\n",
        "      <td> 21</td>\n",
        "      <td> 18</td>\n",
        "      <td> 21</td>\n",
        "    </tr>\n",
        "  </tbody>\n",
        "</table>\n",
        "<p>24 rows \u00d7 4 columns</p>\n",
        "</div>"
       ],
       "metadata": {},
       "output_type": "pyout",
       "prompt_number": 205,
       "text": [
        "                     open  high  low  close\n",
        "2012-09-01 00:00:00    16    16    4      7\n",
        "2012-09-01 01:00:00    18    18    1      7\n",
        "2012-09-01 02:00:00     7    24    6      6\n",
        "2012-09-01 03:00:00    22    22    1      3\n",
        "2012-09-01 04:00:00    18    20    8     20\n",
        "2012-09-01 05:00:00    20    24   15     20\n",
        "2012-09-01 06:00:00    10    17   10     16\n",
        "2012-09-01 07:00:00    24    24    2      6\n",
        "2012-09-01 08:00:00    20    23   17     23\n",
        "2012-09-01 09:00:00     1    17    1     17\n",
        "2012-09-01 10:00:00    24    24   11     11\n",
        "2012-09-01 11:00:00     6    17    6     13\n",
        "2012-09-01 12:00:00    10    18   10     18\n",
        "2012-09-01 13:00:00    16    18    6      7\n",
        "2012-09-01 14:00:00     2    18    2     18\n",
        "2012-09-01 15:00:00     5     9    1      1\n",
        "2012-09-01 16:00:00    23    23    2      4\n",
        "2012-09-01 17:00:00     6    23    6     20\n",
        "2012-09-01 18:00:00     2    24    2     17\n",
        "2012-09-01 19:00:00    11    16    9      9\n",
        "2012-09-01 20:00:00    20    20    2      7\n",
        "2012-09-01 21:00:00    20    20    1      9\n",
        "2012-09-01 22:00:00     5    21    5     20\n",
        "2012-09-01 23:00:00    21    21   18     21\n",
        "\n",
        "[24 rows x 4 columns]"
       ]
      }
     ],
     "prompt_number": 205
    },
    {
     "cell_type": "markdown",
     "metadata": {},
     "source": [
      "### Upsampling\n",
      "\n",
      "Upsampling brings an entirely different set of challenges. If we increase the frequency of the samples, how do we fill in these new time series values? For example, consider the reverse of the last example. Then check out the `fill_method` options."
     ]
    },
    {
     "cell_type": "code",
     "collapsed": false,
     "input": [
      "ts30"
     ],
     "language": "python",
     "metadata": {},
     "outputs": [
      {
       "metadata": {},
       "output_type": "pyout",
       "prompt_number": 206,
       "text": [
        "2012-09-01 00:00:00    11.5\n",
        "2012-09-01 00:30:00     5.5\n",
        "2012-09-01 01:00:00     9.5\n",
        "2012-09-01 01:30:00     5.5\n",
        "2012-09-01 02:00:00    14.5\n",
        "2012-09-01 02:30:00    15.0\n",
        "2012-09-01 03:00:00    13.5\n",
        "2012-09-01 03:30:00     2.0\n",
        "2012-09-01 04:00:00    13.0\n",
        "2012-09-01 04:30:00    17.5\n",
        "2012-09-01 05:00:00    22.0\n",
        "2012-09-01 05:30:00    17.5\n",
        "2012-09-01 06:00:00    13.5\n",
        "2012-09-01 06:30:00    16.5\n",
        "2012-09-01 07:00:00    20.0\n",
        "2012-09-01 07:30:00     4.0\n",
        "2012-09-01 08:00:00    20.0\n",
        "2012-09-01 08:30:00    20.0\n",
        "2012-09-01 09:00:00     3.0\n",
        "2012-09-01 09:30:00    13.0\n",
        "2012-09-01 10:00:00    18.0\n",
        "2012-09-01 10:30:00    14.5\n",
        "2012-09-01 11:00:00    11.5\n",
        "2012-09-01 11:30:00    14.0\n",
        "2012-09-01 12:00:00    12.0\n",
        "2012-09-01 12:30:00    14.0\n",
        "2012-09-01 13:00:00    11.0\n",
        "2012-09-01 13:30:00    12.5\n",
        "2012-09-01 14:00:00     9.5\n",
        "2012-09-01 14:30:00    16.5\n",
        "2012-09-01 15:00:00     7.0\n",
        "2012-09-01 15:30:00     3.5\n",
        "2012-09-01 16:00:00    12.5\n",
        "2012-09-01 16:30:00     8.5\n",
        "2012-09-01 17:00:00    14.5\n",
        "2012-09-01 17:30:00    18.5\n",
        "2012-09-01 18:00:00    13.0\n",
        "2012-09-01 18:30:00     9.5\n",
        "2012-09-01 19:00:00    13.5\n",
        "2012-09-01 19:30:00    12.0\n",
        "2012-09-01 20:00:00    15.5\n",
        "2012-09-01 20:30:00     4.5\n",
        "2012-09-01 21:00:00    10.5\n",
        "2012-09-01 21:30:00    11.0\n",
        "2012-09-01 22:00:00    13.0\n",
        "2012-09-01 22:30:00    18.5\n",
        "2012-09-01 23:00:00    19.5\n",
        "2012-09-01 23:30:00    20.0\n",
        "Freq: 30T, dtype: float64"
       ]
      }
     ],
     "prompt_number": 206
    },
    {
     "cell_type": "code",
     "collapsed": false,
     "input": [
      "ts30.resample('15min')"
     ],
     "language": "python",
     "metadata": {},
     "outputs": [
      {
       "metadata": {},
       "output_type": "pyout",
       "prompt_number": 207,
       "text": [
        "2012-09-01 00:00:00    11.5\n",
        "2012-09-01 00:15:00     NaN\n",
        "2012-09-01 00:30:00     5.5\n",
        "2012-09-01 00:45:00     NaN\n",
        "2012-09-01 01:00:00     9.5\n",
        "2012-09-01 01:15:00     NaN\n",
        "2012-09-01 01:30:00     5.5\n",
        "2012-09-01 01:45:00     NaN\n",
        "2012-09-01 02:00:00    14.5\n",
        "2012-09-01 02:15:00     NaN\n",
        "2012-09-01 02:30:00    15.0\n",
        "2012-09-01 02:45:00     NaN\n",
        "2012-09-01 03:00:00    13.5\n",
        "2012-09-01 03:15:00     NaN\n",
        "2012-09-01 03:30:00     2.0\n",
        "...\n",
        "2012-09-01 20:00:00    15.5\n",
        "2012-09-01 20:15:00     NaN\n",
        "2012-09-01 20:30:00     4.5\n",
        "2012-09-01 20:45:00     NaN\n",
        "2012-09-01 21:00:00    10.5\n",
        "2012-09-01 21:15:00     NaN\n",
        "2012-09-01 21:30:00    11.0\n",
        "2012-09-01 21:45:00     NaN\n",
        "2012-09-01 22:00:00    13.0\n",
        "2012-09-01 22:15:00     NaN\n",
        "2012-09-01 22:30:00    18.5\n",
        "2012-09-01 22:45:00     NaN\n",
        "2012-09-01 23:00:00    19.5\n",
        "2012-09-01 23:15:00     NaN\n",
        "2012-09-01 23:30:00    20.0\n",
        "Freq: 15T, Length: 95"
       ]
      }
     ],
     "prompt_number": 207
    },
    {
     "cell_type": "markdown",
     "metadata": {},
     "source": [
      "Time Series Plotting \n",
      "--------------------\n",
      "\n",
      "Pandas tries to make it a little easier to create nice looking time series plots using `matplotlib` than if you just used `matplotlib` yourself. Let's read in some stock price data from Yahoo! Finance that has already been saved to a csv file."
     ]
    },
    {
     "cell_type": "code",
     "collapsed": false,
     "input": [
      "close_px_all = pd.read_csv('stock_px.csv', parse_dates=True, index_col=0)"
     ],
     "language": "python",
     "metadata": {},
     "outputs": [],
     "prompt_number": 208
    },
    {
     "cell_type": "code",
     "collapsed": false,
     "input": [
      "close_px_all.head()"
     ],
     "language": "python",
     "metadata": {},
     "outputs": [
      {
       "html": [
        "<div style=\"max-height:1000px;max-width:1500px;overflow:auto;\">\n",
        "<table border=\"1\" class=\"dataframe\">\n",
        "  <thead>\n",
        "    <tr style=\"text-align: right;\">\n",
        "      <th></th>\n",
        "      <th>AAPL</th>\n",
        "      <th>MSFT</th>\n",
        "      <th>XOM</th>\n",
        "      <th>SPX</th>\n",
        "    </tr>\n",
        "  </thead>\n",
        "  <tbody>\n",
        "    <tr>\n",
        "      <th>2003-01-02</th>\n",
        "      <td> 7.40</td>\n",
        "      <td> 21.11</td>\n",
        "      <td> 29.22</td>\n",
        "      <td> 909.03</td>\n",
        "    </tr>\n",
        "    <tr>\n",
        "      <th>2003-01-03</th>\n",
        "      <td> 7.45</td>\n",
        "      <td> 21.14</td>\n",
        "      <td> 29.24</td>\n",
        "      <td> 908.59</td>\n",
        "    </tr>\n",
        "    <tr>\n",
        "      <th>2003-01-06</th>\n",
        "      <td> 7.45</td>\n",
        "      <td> 21.52</td>\n",
        "      <td> 29.96</td>\n",
        "      <td> 929.01</td>\n",
        "    </tr>\n",
        "    <tr>\n",
        "      <th>2003-01-07</th>\n",
        "      <td> 7.43</td>\n",
        "      <td> 21.93</td>\n",
        "      <td> 28.95</td>\n",
        "      <td> 922.93</td>\n",
        "    </tr>\n",
        "    <tr>\n",
        "      <th>2003-01-08</th>\n",
        "      <td> 7.28</td>\n",
        "      <td> 21.31</td>\n",
        "      <td> 28.83</td>\n",
        "      <td> 909.93</td>\n",
        "    </tr>\n",
        "  </tbody>\n",
        "</table>\n",
        "<p>5 rows \u00d7 4 columns</p>\n",
        "</div>"
       ],
       "metadata": {},
       "output_type": "pyout",
       "prompt_number": 209,
       "text": [
        "            AAPL   MSFT    XOM     SPX\n",
        "2003-01-02  7.40  21.11  29.22  909.03\n",
        "2003-01-03  7.45  21.14  29.24  908.59\n",
        "2003-01-06  7.45  21.52  29.96  929.01\n",
        "2003-01-07  7.43  21.93  28.95  922.93\n",
        "2003-01-08  7.28  21.31  28.83  909.93\n",
        "\n",
        "[5 rows x 4 columns]"
       ]
      }
     ],
     "prompt_number": 209
    },
    {
     "cell_type": "code",
     "collapsed": false,
     "input": [
      "close_px = close_px_all[['AAPL','MSFT','XOM']]"
     ],
     "language": "python",
     "metadata": {},
     "outputs": [],
     "prompt_number": 210
    },
    {
     "cell_type": "code",
     "collapsed": false,
     "input": [
      "close_px[1:10]"
     ],
     "language": "python",
     "metadata": {},
     "outputs": [
      {
       "html": [
        "<div style=\"max-height:1000px;max-width:1500px;overflow:auto;\">\n",
        "<table border=\"1\" class=\"dataframe\">\n",
        "  <thead>\n",
        "    <tr style=\"text-align: right;\">\n",
        "      <th></th>\n",
        "      <th>AAPL</th>\n",
        "      <th>MSFT</th>\n",
        "      <th>XOM</th>\n",
        "    </tr>\n",
        "  </thead>\n",
        "  <tbody>\n",
        "    <tr>\n",
        "      <th>2003-01-03</th>\n",
        "      <td> 7.45</td>\n",
        "      <td> 21.14</td>\n",
        "      <td> 29.24</td>\n",
        "    </tr>\n",
        "    <tr>\n",
        "      <th>2003-01-06</th>\n",
        "      <td> 7.45</td>\n",
        "      <td> 21.52</td>\n",
        "      <td> 29.96</td>\n",
        "    </tr>\n",
        "    <tr>\n",
        "      <th>2003-01-07</th>\n",
        "      <td> 7.43</td>\n",
        "      <td> 21.93</td>\n",
        "      <td> 28.95</td>\n",
        "    </tr>\n",
        "    <tr>\n",
        "      <th>2003-01-08</th>\n",
        "      <td> 7.28</td>\n",
        "      <td> 21.31</td>\n",
        "      <td> 28.83</td>\n",
        "    </tr>\n",
        "    <tr>\n",
        "      <th>2003-01-09</th>\n",
        "      <td> 7.34</td>\n",
        "      <td> 21.93</td>\n",
        "      <td> 29.44</td>\n",
        "    </tr>\n",
        "    <tr>\n",
        "      <th>2003-01-10</th>\n",
        "      <td> 7.36</td>\n",
        "      <td> 21.97</td>\n",
        "      <td> 29.03</td>\n",
        "    </tr>\n",
        "    <tr>\n",
        "      <th>2003-01-13</th>\n",
        "      <td> 7.32</td>\n",
        "      <td> 22.16</td>\n",
        "      <td> 28.91</td>\n",
        "    </tr>\n",
        "    <tr>\n",
        "      <th>2003-01-14</th>\n",
        "      <td> 7.30</td>\n",
        "      <td> 22.39</td>\n",
        "      <td> 29.17</td>\n",
        "    </tr>\n",
        "    <tr>\n",
        "      <th>2003-01-15</th>\n",
        "      <td> 7.22</td>\n",
        "      <td> 22.11</td>\n",
        "      <td> 28.77</td>\n",
        "    </tr>\n",
        "  </tbody>\n",
        "</table>\n",
        "<p>9 rows \u00d7 3 columns</p>\n",
        "</div>"
       ],
       "metadata": {},
       "output_type": "pyout",
       "prompt_number": 211,
       "text": [
        "            AAPL   MSFT    XOM\n",
        "2003-01-03  7.45  21.14  29.24\n",
        "2003-01-06  7.45  21.52  29.96\n",
        "2003-01-07  7.43  21.93  28.95\n",
        "2003-01-08  7.28  21.31  28.83\n",
        "2003-01-09  7.34  21.93  29.44\n",
        "2003-01-10  7.36  21.97  29.03\n",
        "2003-01-13  7.32  22.16  28.91\n",
        "2003-01-14  7.30  22.39  29.17\n",
        "2003-01-15  7.22  22.11  28.77\n",
        "\n",
        "[9 rows x 3 columns]"
       ]
      }
     ],
     "prompt_number": 211
    },
    {
     "cell_type": "code",
     "collapsed": false,
     "input": [
      "close_px['AAPL'].plot()"
     ],
     "language": "python",
     "metadata": {},
     "outputs": [
      {
       "metadata": {},
       "output_type": "pyout",
       "prompt_number": 212,
       "text": [
        "<matplotlib.axes.AxesSubplot at 0x8097990>"
       ]
      },
      {
       "metadata": {},
       "output_type": "display_data",
       "png": "[encoded data removed]",
       "text": [
        "<matplotlib.figure.Figure at 0x8097790>"
       ]
      }
     ],
     "prompt_number": 212
    },
    {
     "cell_type": "code",
     "collapsed": false,
     "input": [
      "close_px.plot()"
     ],
     "language": "python",
     "metadata": {},
     "outputs": [
      {
       "metadata": {},
       "output_type": "pyout",
       "prompt_number": 213,
       "text": [
        "<matplotlib.axes.AxesSubplot at 0x72ad3d0>"
       ]
      },
      {
       "metadata": {},
       "output_type": "display_data",
       "png": "[encoded data removed]",
       "text": [
        "<matplotlib.figure.Figure at 0x8056c50>"
       ]
      }
     ],
     "prompt_number": 213
    },
    {
     "cell_type": "code",
     "collapsed": false,
     "input": [
      "# And here's what it looks like if we just plot one year. Notice the auto x-axis formatting.\n",
      "close_px.ix['2009'].plot()"
     ],
     "language": "python",
     "metadata": {},
     "outputs": [
      {
       "metadata": {},
       "output_type": "pyout",
       "prompt_number": 214,
       "text": [
        "<matplotlib.axes.AxesSubplot at 0x814ad70>"
       ]
      },
      {
       "metadata": {},
       "output_type": "display_data",
       "png": "[encoded data removed]",
       "text": [
        "<matplotlib.figure.Figure at 0x81a1390>"
       ]
      }
     ],
     "prompt_number": 214
    },
    {
     "cell_type": "code",
     "collapsed": false,
     "input": [
      "close_px.index"
     ],
     "language": "python",
     "metadata": {},
     "outputs": [
      {
       "metadata": {},
       "output_type": "pyout",
       "prompt_number": 215,
       "text": [
        "<class 'pandas.tseries.index.DatetimeIndex'>\n",
        "[2003-01-02, ..., 2011-10-14]\n",
        "Length: 2214, Freq: None, Timezone: None"
       ]
      }
     ],
     "prompt_number": 215
    },
    {
     "cell_type": "code",
     "collapsed": false,
     "input": [
      "list(close_px.index)[1:25]"
     ],
     "language": "python",
     "metadata": {},
     "outputs": [
      {
       "metadata": {},
       "output_type": "pyout",
       "prompt_number": 216,
       "text": [
        "[Timestamp('2003-01-03 00:00:00', tz=None),\n",
        " Timestamp('2003-01-06 00:00:00', tz=None),\n",
        " Timestamp('2003-01-07 00:00:00', tz=None),\n",
        " Timestamp('2003-01-08 00:00:00', tz=None),\n",
        " Timestamp('2003-01-09 00:00:00', tz=None),\n",
        " Timestamp('2003-01-10 00:00:00', tz=None),\n",
        " Timestamp('2003-01-13 00:00:00', tz=None),\n",
        " Timestamp('2003-01-14 00:00:00', tz=None),\n",
        " Timestamp('2003-01-15 00:00:00', tz=None),\n",
        " Timestamp('2003-01-16 00:00:00', tz=None),\n",
        " Timestamp('2003-01-17 00:00:00', tz=None),\n",
        " Timestamp('2003-01-21 00:00:00', tz=None),\n",
        " Timestamp('2003-01-22 00:00:00', tz=None),\n",
        " Timestamp('2003-01-23 00:00:00', tz=None),\n",
        " Timestamp('2003-01-24 00:00:00', tz=None),\n",
        " Timestamp('2003-01-27 00:00:00', tz=None),\n",
        " Timestamp('2003-01-28 00:00:00', tz=None),\n",
        " Timestamp('2003-01-29 00:00:00', tz=None),\n",
        " Timestamp('2003-01-30 00:00:00', tz=None),\n",
        " Timestamp('2003-01-31 00:00:00', tz=None),\n",
        " Timestamp('2003-02-03 00:00:00', tz=None),\n",
        " Timestamp('2003-02-04 00:00:00', tz=None),\n",
        " Timestamp('2003-02-05 00:00:00', tz=None),\n",
        " Timestamp('2003-02-06 00:00:00', tz=None)]"
       ]
      }
     ],
     "prompt_number": 216
    },
    {
     "cell_type": "code",
     "collapsed": false,
     "input": [
      "close_px['AAPL'].ix['01-2011':'03-2011'].plot()"
     ],
     "language": "python",
     "metadata": {},
     "outputs": [
      {
       "metadata": {},
       "output_type": "pyout",
       "prompt_number": 217,
       "text": [
        "<matplotlib.axes.AxesSubplot at 0x81a9c90>"
       ]
      },
      {
       "metadata": {},
       "output_type": "display_data",
       "png": "[encoded data removed]",
       "text": [
        "<matplotlib.figure.Figure at 0x8188f50>"
       ]
      }
     ],
     "prompt_number": 217
    },
    {
     "cell_type": "markdown",
     "metadata": {},
     "source": [
      "Pandas does a particulary nice job with quarterly data."
     ]
    },
    {
     "cell_type": "code",
     "collapsed": false,
     "input": [
      "appl_q = close_px['AAPL'].resample('Q-DEC')"
     ],
     "language": "python",
     "metadata": {},
     "outputs": [],
     "prompt_number": 218
    },
    {
     "cell_type": "code",
     "collapsed": false,
     "input": [
      "appl_q"
     ],
     "language": "python",
     "metadata": {},
     "outputs": [
      {
       "metadata": {},
       "output_type": "pyout",
       "prompt_number": 219,
       "text": [
        "2003-03-31      7.289180\n",
        "2003-06-30      8.299365\n",
        "2003-09-30     10.499844\n",
        "2003-12-31     10.893906\n",
        "2004-03-31     12.031613\n",
        "2004-06-30     14.335645\n",
        "2004-09-30     16.609219\n",
        "2004-12-31     27.792813\n",
        "2005-03-31     39.535574\n",
        "2005-06-30     37.876719\n",
        "2005-09-30     45.719219\n",
        "2005-12-31     63.500476\n",
        "2006-03-31     70.159194\n",
        "2006-06-30     64.030000\n",
        "2006-09-30     66.210635\n",
        "2006-12-31     82.832381\n",
        "2007-03-31     88.520164\n",
        "2007-06-30    108.308254\n",
        "2007-09-30    135.619683\n",
        "2007-12-31    178.586875\n",
        "2008-03-31    139.138689\n",
        "2008-06-30    173.566719\n",
        "2008-09-30    160.141250\n",
        "2008-12-31     94.936250\n",
        "2009-03-31     93.574098\n",
        "2009-06-30    129.413333\n",
        "2009-09-30    164.225156\n",
        "2009-12-31    197.276406\n",
        "2010-03-31    210.855082\n",
        "2010-06-30    254.738889\n",
        "2010-09-30    259.905156\n",
        "2010-12-31    311.494688\n",
        "2011-03-31    345.683226\n",
        "2011-06-30    337.612381\n",
        "2011-09-30    380.510312\n",
        "2011-12-31    389.424000\n",
        "Freq: Q-DEC, Name: AAPL, dtype: float64"
       ]
      }
     ],
     "prompt_number": 219
    },
    {
     "cell_type": "code",
     "collapsed": false,
     "input": [
      "appl_q.ix['2009':].plot()"
     ],
     "language": "python",
     "metadata": {},
     "outputs": [
      {
       "metadata": {},
       "output_type": "pyout",
       "prompt_number": 220,
       "text": [
        "<matplotlib.axes.AxesSubplot at 0x82417d0>"
       ]
      },
      {
       "metadata": {},
       "output_type": "display_data",
       "png": "[encoded data removed]",
       "text": [
        "<matplotlib.figure.Figure at 0x824a050>"
       ]
      }
     ],
     "prompt_number": 220
    },
    {
     "cell_type": "markdown",
     "metadata": {},
     "source": [
      "### Moving window functions\n",
      "\n",
      "Pandas makes it easy to do all kinds of *moving window* operations like moving average, cumulative sums, and even things like exponential moving averages (\"exponential smoothing\")."
     ]
    },
    {
     "cell_type": "code",
     "collapsed": false,
     "input": [
      "close_px.AAPL.plot()\n",
      "pd.rolling_mean(close_px.AAPL,250).plot()"
     ],
     "language": "python",
     "metadata": {},
     "outputs": [
      {
       "metadata": {},
       "output_type": "pyout",
       "prompt_number": 221,
       "text": [
        "<matplotlib.axes.AxesSubplot at 0x82ac050>"
       ]
      },
      {
       "metadata": {},
       "output_type": "display_data",
       "png": "[encoded data removed]",
       "text": [
        "<matplotlib.figure.Figure at 0x82bc5d0>"
       ]
      }
     ],
     "prompt_number": 221
    },
    {
     "cell_type": "code",
     "collapsed": false,
     "input": [
      "pd.rolling_mean(close_px.AAPL,250)"
     ],
     "language": "python",
     "metadata": {},
     "outputs": [
      {
       "metadata": {},
       "output_type": "pyout",
       "prompt_number": 222,
       "text": [
        "2003-01-02   NaN\n",
        "2003-01-03   NaN\n",
        "2003-01-06   NaN\n",
        "2003-01-07   NaN\n",
        "2003-01-08   NaN\n",
        "2003-01-09   NaN\n",
        "2003-01-10   NaN\n",
        "2003-01-13   NaN\n",
        "2003-01-14   NaN\n",
        "2003-01-15   NaN\n",
        "2003-01-16   NaN\n",
        "2003-01-17   NaN\n",
        "2003-01-21   NaN\n",
        "2003-01-22   NaN\n",
        "2003-01-23   NaN\n",
        "...\n",
        "2011-09-26    342.82340\n",
        "2011-09-27    343.28544\n",
        "2011-09-28    343.74340\n",
        "2011-09-29    344.19112\n",
        "2011-09-30    344.56064\n",
        "2011-10-03    344.90228\n",
        "2011-10-04    345.23540\n",
        "2011-10-05    345.57212\n",
        "2011-10-06    345.90016\n",
        "2011-10-07    346.18520\n",
        "2011-10-10    346.53988\n",
        "2011-10-11    346.93180\n",
        "2011-10-12    347.28160\n",
        "2011-10-13    347.64332\n",
        "2011-10-14    348.09336\n",
        "Length: 2214"
       ]
      }
     ],
     "prompt_number": 222
    },
    {
     "cell_type": "markdown",
     "metadata": {},
     "source": [
      "This example shows one problem with a moving average - by default you usually can't compute it until you have data for the number of periods corresponding to the window size (250 in this case). Pandas lets you specify an alternate minumum number of data points to get around this problem."
     ]
    },
    {
     "cell_type": "code",
     "collapsed": false,
     "input": [
      "pd.rolling_mean(close_px.AAPL,250,min_periods=10)"
     ],
     "language": "python",
     "metadata": {},
     "outputs": [
      {
       "metadata": {},
       "output_type": "pyout",
       "prompt_number": 223,
       "text": [
        "2003-01-02         NaN\n",
        "2003-01-03         NaN\n",
        "2003-01-06         NaN\n",
        "2003-01-07         NaN\n",
        "2003-01-08         NaN\n",
        "2003-01-09         NaN\n",
        "2003-01-10         NaN\n",
        "2003-01-13         NaN\n",
        "2003-01-14         NaN\n",
        "2003-01-15    7.355000\n",
        "2003-01-16    7.350909\n",
        "2003-01-17    7.325833\n",
        "2003-01-21    7.301538\n",
        "2003-01-22    7.275714\n",
        "2003-01-23    7.263333\n",
        "...\n",
        "2011-09-26    342.82340\n",
        "2011-09-27    343.28544\n",
        "2011-09-28    343.74340\n",
        "2011-09-29    344.19112\n",
        "2011-09-30    344.56064\n",
        "2011-10-03    344.90228\n",
        "2011-10-04    345.23540\n",
        "2011-10-05    345.57212\n",
        "2011-10-06    345.90016\n",
        "2011-10-07    346.18520\n",
        "2011-10-10    346.53988\n",
        "2011-10-11    346.93180\n",
        "2011-10-12    347.28160\n",
        "2011-10-13    347.64332\n",
        "2011-10-14    348.09336\n",
        "Length: 2214"
       ]
      }
     ],
     "prompt_number": 223
    },
    {
     "cell_type": "code",
     "collapsed": false,
     "input": [
      "close_px.AAPL.plot()\n",
      "pd.rolling_mean(close_px.AAPL,250,min_periods=10).plot()"
     ],
     "language": "python",
     "metadata": {},
     "outputs": [
      {
       "metadata": {},
       "output_type": "pyout",
       "prompt_number": 224,
       "text": [
        "<matplotlib.axes.AxesSubplot at 0x84f6690>"
       ]
      },
      {
       "metadata": {},
       "output_type": "display_data",
       "png": "[encoded data removed]",
       "text": [
        "<matplotlib.figure.Figure at 0x82af950>"
       ]
      }
     ],
     "prompt_number": 224
    },
    {
     "cell_type": "code",
     "collapsed": false,
     "input": [
      "# Things like rolling standard deviation are also possible\n",
      "appl_std250 = pd.rolling_std(close_px.AAPL,250,min_periods=10)"
     ],
     "language": "python",
     "metadata": {},
     "outputs": [],
     "prompt_number": 225
    },
    {
     "cell_type": "code",
     "collapsed": false,
     "input": [
      "appl_std250.plot()"
     ],
     "language": "python",
     "metadata": {},
     "outputs": [
      {
       "metadata": {},
       "output_type": "pyout",
       "prompt_number": 226,
       "text": [
        "<matplotlib.axes.AxesSubplot at 0x851deb0>"
       ]
      },
      {
       "metadata": {},
       "output_type": "display_data",
       "png": "[encoded data removed]",
       "text": [
        "<matplotlib.figure.Figure at 0x8558810>"
       ]
      }
     ],
     "prompt_number": 226
    },
    {
     "cell_type": "markdown",
     "metadata": {},
     "source": [
      "Learn more about pandas timeseries\n",
      "-----------------------------------\n",
      "\n",
      "Another intro tutorial is [http://earthpy.org/pandas-basics.html](http://earthpy.org/pandas-basics.html)\n",
      "\n",
      "Wes Mckinney's 2012 PyCon talk on pandas and timeseries - [http://pyvideo.org/video/1198/time-series-data-analysis-with-pandas](http://pyvideo.org/video/1198/time-series-data-analysis-with-pandas)"
     ]
    }
   ],
   "metadata": {}
  }
 ]
}