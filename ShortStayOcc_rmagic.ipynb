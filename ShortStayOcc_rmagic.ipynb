{
 "metadata": {
  "name": ""
 },
 "nbformat": 3,
 "nbformat_minor": 0,
 "worksheets": [
  {
   "cells": [
    {
     "cell_type": "markdown",
     "metadata": {},
     "source": [
      "Occupancy plots with Python and ggplot2 via rmagic - Part 3a\n",
      "=============================================================\n",
      "\n",
      "## Background ##\n",
      "\n",
      "In two previous posts ([here](http://hselab.org/content/occupancy-analysis-python-pandas-part-1-create-date-data-frame) and [here](http://hselab.org/content/occupancy-analysis-python-pandas-part-2-compute-occupancy-summary-stats)), I showed how to do occupancy analysis with the beginnings of a Python based version of [Hillmaker](http://hillmaker.sourceforge.net/). The example is based on data from a hospital short stay unit.\n",
      "\n",
      "In this short tutorial, I'll show how to use `rmagic` from within an IPython notebook so that we can make occupancy plots using `ggplot2`. In particular, we want to create a grid of occupancy histograms with one grid axis being patient type and the other axis being day of week. We want to make sure that the plots are ordered Sunday, Monday, ..., Saturday and NOT in alphabetical order (Friday, Monday, ..., Wednesday).\n",
      "\n",
      "The first part of such an analysis leads to a table we call the \"by datetime\" table. At the end of Part 1 of this tutorial series, we ended up with a csv file called bydate_shortstay_csv.csv. Let's read it in and take a look at it.\n"
     ]
    },
    {
     "cell_type": "code",
     "collapsed": false,
     "input": [
      "import pandas as pd\n",
      "import numpy as np\n",
      "import matplotlib.pyplot as plt\n",
      "\n",
      "\n",
      "# Make the graphs a bit prettier, and bigger\n",
      "pd.set_option('display.mpl_style', 'default') \n",
      "pd.set_option('display.line_width', 5000) \n",
      "pd.set_option('display.max_columns', 60) "
     ],
     "language": "python",
     "metadata": {},
     "outputs": [],
     "prompt_number": 1
    },
    {
     "cell_type": "code",
     "collapsed": false,
     "input": [
      "## Read sample data set and convert string dates to datetimes\n",
      "bydatetime_df = pd.read_csv('bydate_shortstay_demo.csv',parse_dates=['datetime'])"
     ],
     "language": "python",
     "metadata": {},
     "outputs": [],
     "prompt_number": 2
    },
    {
     "cell_type": "code",
     "collapsed": false,
     "input": [
      "bydatetime_df.head()"
     ],
     "language": "python",
     "metadata": {},
     "outputs": [
      {
       "html": [
        "<div style=\"max-height:1000px;max-width:1500px;overflow:auto;\">\n",
        "<table border=\"1\" class=\"dataframe\">\n",
        "  <thead>\n",
        "    <tr style=\"text-align: right;\">\n",
        "      <th></th>\n",
        "      <th>category</th>\n",
        "      <th>datetime</th>\n",
        "      <th>arrivals</th>\n",
        "      <th>binofday</th>\n",
        "      <th>binofweek</th>\n",
        "      <th>dayofweek</th>\n",
        "      <th>departures</th>\n",
        "      <th>occupancy</th>\n",
        "    </tr>\n",
        "  </thead>\n",
        "  <tbody>\n",
        "    <tr>\n",
        "      <th>0</th>\n",
        "      <td> IVT</td>\n",
        "      <td>1996-01-07 00:00:00</td>\n",
        "      <td> 0</td>\n",
        "      <td> 0</td>\n",
        "      <td> 288</td>\n",
        "      <td> 6</td>\n",
        "      <td> 0</td>\n",
        "      <td> 0.0</td>\n",
        "    </tr>\n",
        "    <tr>\n",
        "      <th>1</th>\n",
        "      <td> IVT</td>\n",
        "      <td>1996-01-07 00:30:00</td>\n",
        "      <td> 0</td>\n",
        "      <td> 1</td>\n",
        "      <td> 289</td>\n",
        "      <td> 6</td>\n",
        "      <td> 1</td>\n",
        "      <td> 0.5</td>\n",
        "    </tr>\n",
        "    <tr>\n",
        "      <th>2</th>\n",
        "      <td> IVT</td>\n",
        "      <td>1996-01-07 01:00:00</td>\n",
        "      <td> 0</td>\n",
        "      <td> 2</td>\n",
        "      <td> 290</td>\n",
        "      <td> 6</td>\n",
        "      <td> 0</td>\n",
        "      <td> 0.0</td>\n",
        "    </tr>\n",
        "    <tr>\n",
        "      <th>3</th>\n",
        "      <td> IVT</td>\n",
        "      <td>1996-01-07 01:30:00</td>\n",
        "      <td> 0</td>\n",
        "      <td> 3</td>\n",
        "      <td> 291</td>\n",
        "      <td> 6</td>\n",
        "      <td> 0</td>\n",
        "      <td> 0.0</td>\n",
        "    </tr>\n",
        "    <tr>\n",
        "      <th>4</th>\n",
        "      <td> IVT</td>\n",
        "      <td>1996-01-07 02:00:00</td>\n",
        "      <td> 0</td>\n",
        "      <td> 4</td>\n",
        "      <td> 292</td>\n",
        "      <td> 6</td>\n",
        "      <td> 0</td>\n",
        "      <td> 0.0</td>\n",
        "    </tr>\n",
        "  </tbody>\n",
        "</table>\n",
        "<p>5 rows \u00d7 8 columns</p>\n",
        "</div>"
       ],
       "metadata": {},
       "output_type": "pyout",
       "prompt_number": 3,
       "text": [
        "  category            datetime  arrivals  binofday  binofweek  dayofweek  departures  occupancy\n",
        "0      IVT 1996-01-07 00:00:00         0         0        288          6           0        0.0\n",
        "1      IVT 1996-01-07 00:30:00         0         1        289          6           1        0.5\n",
        "2      IVT 1996-01-07 01:00:00         0         2        290          6           0        0.0\n",
        "3      IVT 1996-01-07 01:30:00         0         3        291          6           0        0.0\n",
        "4      IVT 1996-01-07 02:00:00         0         4        292          6           0        0.0\n",
        "\n",
        "[5 rows x 8 columns]"
       ]
      }
     ],
     "prompt_number": 3
    },
    {
     "cell_type": "markdown",
     "metadata": {},
     "source": [
      "Let's say that we are interested in average occupancy by day of week (ignoring time of day) by patient type (category). Since each day consists of the same number of equally sized time bins, we can use the Pandas `groupby` function to easily compute mean occupancy by day of week."
     ]
    },
    {
     "cell_type": "code",
     "collapsed": false,
     "input": [
      "meanocc_df = bydatetime_df.groupby(['category','dayofweek'])['occupancy'].mean()"
     ],
     "language": "python",
     "metadata": {},
     "outputs": [],
     "prompt_number": 4
    },
    {
     "cell_type": "code",
     "collapsed": false,
     "input": [
      "meanocc_df"
     ],
     "language": "python",
     "metadata": {},
     "outputs": [
      {
       "metadata": {},
       "output_type": "pyout",
       "prompt_number": 5,
       "text": [
        "category  dayofweek\n",
        "ART       0             1.841435\n",
        "          1             1.700810\n",
        "          2             1.770544\n",
        "          3             1.868866\n",
        "          4             2.144907\n",
        "          5             0.000000\n",
        "          6             0.000000\n",
        "CAT       0             2.562963\n",
        "          1             2.055556\n",
        "          2             2.181134\n",
        "          3             2.136053\n",
        "          4             2.540683\n",
        "          5             0.620833\n",
        "          6             0.278312\n",
        "IVT       0             8.670891\n",
        "          1             7.403183\n",
        "          2             7.350810\n",
        "          3             7.557870\n",
        "          4             9.250231\n",
        "          5             0.969792\n",
        "          6             0.283494\n",
        "MYE       0             2.056250\n",
        "          1             1.873669\n",
        "          2             1.841030\n",
        "          3             1.826505\n",
        "          4             2.022743\n",
        "          5             0.147280\n",
        "          6             0.091293\n",
        "OTH       0             1.455093\n",
        "          1             1.174363\n",
        "          2             1.124248\n",
        "          3             1.147454\n",
        "          4             1.270544\n",
        "          5             0.000000\n",
        "          6             0.000000\n",
        "Total     0            16.586632\n",
        "          1            14.207581\n",
        "          2            14.267766\n",
        "          3            14.536748\n",
        "          4            17.229109\n",
        "          5             1.737905\n",
        "          6             0.653098\n",
        "Name: occupancy, dtype: float64"
       ]
      }
     ],
     "prompt_number": 5
    },
    {
     "cell_type": "markdown",
     "metadata": {},
     "source": [
      "Even better than just the means would be occupancy histograms by patient type and day of week. That will require a little more work. On the way we'll see how to access individual levels of a hierarchical index, how to push data into an R workspace and use ggplot2 to make nice plots.\n",
      "\n",
      "Let's start by computing average occupancy by category by date (i.e. roll up over the time bins)."
     ]
    },
    {
     "cell_type": "code",
     "collapsed": false,
     "input": [
      "meanoccdate = bydatetime_df.groupby(['category',bydatetime_df['datetime'].map(lambda x: x.date())])['occupancy'].mean()"
     ],
     "language": "python",
     "metadata": {},
     "outputs": [],
     "prompt_number": 6
    },
    {
     "cell_type": "code",
     "collapsed": false,
     "input": [
      "meanoccdate.head()"
     ],
     "language": "python",
     "metadata": {},
     "outputs": [
      {
       "metadata": {},
       "output_type": "pyout",
       "prompt_number": 7,
       "text": [
        "category  datetime  \n",
        "ART       1996-01-07    0.000000\n",
        "          1996-01-08    1.732639\n",
        "          1996-01-09    1.532639\n",
        "          1996-01-10    1.541667\n",
        "          1996-01-11    1.872222\n",
        "Name: occupancy, dtype: float64"
       ]
      }
     ],
     "prompt_number": 7
    },
    {
     "cell_type": "markdown",
     "metadata": {},
     "source": [
      "Now we can use this to create a grid of histograms of occupancy by category and day of week. To make our life a little easier, let's add a string day of week column to this new dataframe (yes, the output of the `groupby` is a `DataFrame` or `Series`). This will require us to access the datetime level of the hierarchical index of our `Series` object, meanoccdate. What does the index look like for one specific row in meanoccdate?"
     ]
    },
    {
     "cell_type": "code",
     "collapsed": false,
     "input": [
      "meanoccdate.index[0]"
     ],
     "language": "python",
     "metadata": {},
     "outputs": [
      {
       "metadata": {},
       "output_type": "pyout",
       "prompt_number": 8,
       "text": [
        "('ART', datetime.date(1996, 1, 7))"
       ]
      }
     ],
     "prompt_number": 8
    },
    {
     "cell_type": "markdown",
     "metadata": {},
     "source": [
      "It's a tuple with the index values for each level of the hierarchy. We want the 2nd element in the tuple."
     ]
    },
    {
     "cell_type": "code",
     "collapsed": false,
     "input": [
      "meanoccdate.index[0][1]"
     ],
     "language": "python",
     "metadata": {},
     "outputs": [
      {
       "metadata": {},
       "output_type": "pyout",
       "prompt_number": 9,
       "text": [
        "datetime.date(1996, 1, 7)"
       ]
      }
     ],
     "prompt_number": 9
    },
    {
     "cell_type": "markdown",
     "metadata": {},
     "source": [
      "Ok, we've got that part. Now, how to convert a `Timestamp` (equivalently, a `datetime`), to its day of week label? Reading the [datetime docs](https://docs.python.org/2/library/datetime.html) leads to the `strftime` function for creating formatted string representations of datetimes."
     ]
    },
    {
     "cell_type": "code",
     "collapsed": false,
     "input": [
      "ts = pd.Timestamp('6/26/2014')"
     ],
     "language": "python",
     "metadata": {},
     "outputs": [],
     "prompt_number": 10
    },
    {
     "cell_type": "code",
     "collapsed": false,
     "input": [
      "ts.strftime('%a')"
     ],
     "language": "python",
     "metadata": {},
     "outputs": [
      {
       "metadata": {},
       "output_type": "pyout",
       "prompt_number": 11,
       "text": [
        "'Thu'"
       ]
      }
     ],
     "prompt_number": 11
    },
    {
     "cell_type": "markdown",
     "metadata": {},
     "source": [
      "Great. Now just put it all together."
     ]
    },
    {
     "cell_type": "code",
     "collapsed": false,
     "input": [
      "meanoccdate_df = pd.DataFrame(meanoccdate)"
     ],
     "language": "python",
     "metadata": {},
     "outputs": [],
     "prompt_number": 12
    },
    {
     "cell_type": "code",
     "collapsed": false,
     "input": [
      "meanoccdate_df['dayofweek'] = meanoccdate_df.index.map(lambda x: pd.Timestamp(x[1]).strftime('%a'))"
     ],
     "language": "python",
     "metadata": {},
     "outputs": [],
     "prompt_number": 13
    },
    {
     "cell_type": "code",
     "collapsed": false,
     "input": [
      "meanoccdate_df.head()"
     ],
     "language": "python",
     "metadata": {},
     "outputs": [
      {
       "html": [
        "<div style=\"max-height:1000px;max-width:1500px;overflow:auto;\">\n",
        "<table border=\"1\" class=\"dataframe\">\n",
        "  <thead>\n",
        "    <tr style=\"text-align: right;\">\n",
        "      <th></th>\n",
        "      <th></th>\n",
        "      <th>occupancy</th>\n",
        "      <th>dayofweek</th>\n",
        "    </tr>\n",
        "    <tr>\n",
        "      <th>category</th>\n",
        "      <th>datetime</th>\n",
        "      <th></th>\n",
        "      <th></th>\n",
        "    </tr>\n",
        "  </thead>\n",
        "  <tbody>\n",
        "    <tr>\n",
        "      <th rowspan=\"5\" valign=\"top\">ART</th>\n",
        "      <th>1996-01-07</th>\n",
        "      <td> 0.000000</td>\n",
        "      <td> Sun</td>\n",
        "    </tr>\n",
        "    <tr>\n",
        "      <th>1996-01-08</th>\n",
        "      <td> 1.732639</td>\n",
        "      <td> Mon</td>\n",
        "    </tr>\n",
        "    <tr>\n",
        "      <th>1996-01-09</th>\n",
        "      <td> 1.532639</td>\n",
        "      <td> Tue</td>\n",
        "    </tr>\n",
        "    <tr>\n",
        "      <th>1996-01-10</th>\n",
        "      <td> 1.541667</td>\n",
        "      <td> Wed</td>\n",
        "    </tr>\n",
        "    <tr>\n",
        "      <th>1996-01-11</th>\n",
        "      <td> 1.872222</td>\n",
        "      <td> Thu</td>\n",
        "    </tr>\n",
        "  </tbody>\n",
        "</table>\n",
        "<p>5 rows \u00d7 2 columns</p>\n",
        "</div>"
       ],
       "metadata": {},
       "output_type": "pyout",
       "prompt_number": 14,
       "text": [
        "                     occupancy dayofweek\n",
        "category datetime                       \n",
        "ART      1996-01-07   0.000000       Sun\n",
        "         1996-01-08   1.732639       Mon\n",
        "         1996-01-09   1.532639       Tue\n",
        "         1996-01-10   1.541667       Wed\n",
        "         1996-01-11   1.872222       Thu\n",
        "\n",
        "[5 rows x 2 columns]"
       ]
      }
     ],
     "prompt_number": 14
    },
    {
     "cell_type": "code",
     "collapsed": false,
     "input": [
      "meanoccdate_df.tail()"
     ],
     "language": "python",
     "metadata": {},
     "outputs": [
      {
       "html": [
        "<div style=\"max-height:1000px;max-width:1500px;overflow:auto;\">\n",
        "<table border=\"1\" class=\"dataframe\">\n",
        "  <thead>\n",
        "    <tr style=\"text-align: right;\">\n",
        "      <th></th>\n",
        "      <th></th>\n",
        "      <th>occupancy</th>\n",
        "      <th>dayofweek</th>\n",
        "    </tr>\n",
        "    <tr>\n",
        "      <th>category</th>\n",
        "      <th>datetime</th>\n",
        "      <th></th>\n",
        "      <th></th>\n",
        "    </tr>\n",
        "  </thead>\n",
        "  <tbody>\n",
        "    <tr>\n",
        "      <th rowspan=\"5\" valign=\"top\">Total</th>\n",
        "      <th>1996-03-27</th>\n",
        "      <td> 15.801389</td>\n",
        "      <td> Wed</td>\n",
        "    </tr>\n",
        "    <tr>\n",
        "      <th>1996-03-28</th>\n",
        "      <td> 13.538194</td>\n",
        "      <td> Thu</td>\n",
        "    </tr>\n",
        "    <tr>\n",
        "      <th>1996-03-29</th>\n",
        "      <td> 18.146528</td>\n",
        "      <td> Fri</td>\n",
        "    </tr>\n",
        "    <tr>\n",
        "      <th>1996-03-30</th>\n",
        "      <td>  1.436111</td>\n",
        "      <td> Sat</td>\n",
        "    </tr>\n",
        "    <tr>\n",
        "      <th>1996-03-31</th>\n",
        "      <td>  0.227083</td>\n",
        "      <td> Sun</td>\n",
        "    </tr>\n",
        "  </tbody>\n",
        "</table>\n",
        "<p>5 rows \u00d7 2 columns</p>\n",
        "</div>"
       ],
       "metadata": {},
       "output_type": "pyout",
       "prompt_number": 15,
       "text": [
        "                     occupancy dayofweek\n",
        "category datetime                       \n",
        "Total    1996-03-27  15.801389       Wed\n",
        "         1996-03-28  13.538194       Thu\n",
        "         1996-03-29  18.146528       Fri\n",
        "         1996-03-30   1.436111       Sat\n",
        "         1996-03-31   0.227083       Sun\n",
        "\n",
        "[5 rows x 2 columns]"
       ]
      }
     ],
     "prompt_number": 15
    },
    {
     "cell_type": "code",
     "collapsed": false,
     "input": [
      "meanoccdate_df['occupancy']['Total']"
     ],
     "language": "python",
     "metadata": {},
     "outputs": [
      {
       "metadata": {},
       "output_type": "pyout",
       "prompt_number": 16,
       "text": [
        "datetime\n",
        "1996-01-07     0.871528\n",
        "1996-01-08    17.759028\n",
        "1996-01-09    15.146528\n",
        "1996-01-10    14.095139\n",
        "1996-01-11    16.148611\n",
        "1996-01-12    16.236111\n",
        "1996-01-13     1.586806\n",
        "1996-01-14     0.725694\n",
        "1996-01-15    18.181250\n",
        "1996-01-16    16.000000\n",
        "1996-01-17    14.304861\n",
        "1996-01-18    16.816667\n",
        "1996-01-19    16.011111\n",
        "1996-01-20     2.631944\n",
        "1996-01-21     0.682639\n",
        "...\n",
        "1996-03-17     0.753472\n",
        "1996-03-18    17.765278\n",
        "1996-03-19    11.013194\n",
        "1996-03-20    12.238194\n",
        "1996-03-21    13.309722\n",
        "1996-03-22    15.611806\n",
        "1996-03-23     0.915972\n",
        "1996-03-24     0.570139\n",
        "1996-03-25    15.807639\n",
        "1996-03-26    14.565972\n",
        "1996-03-27    15.801389\n",
        "1996-03-28    13.538194\n",
        "1996-03-29    18.146528\n",
        "1996-03-30     1.436111\n",
        "1996-03-31     0.227083\n",
        "Name: occupancy, Length: 85, dtype: float64"
       ]
      }
     ],
     "prompt_number": 16
    },
    {
     "cell_type": "markdown",
     "metadata": {},
     "source": [
      "Exploring rmagic - a prelude to graphing occupancy\n",
      "--------------------------------------------------\n",
      "\n",
      "The *rmagic* extension allows us to magically use R from within IPython. Well, [it's not really magic](http://ipython.org/ipython-doc/dev/config/extensions/rmagic.html). It relies on the [RPy2](http://rpy.sourceforge.net/) Python module.\n",
      "\n",
      "http://nbviewer.ipython.org/github/ipython/ipython/blob/3607712653c66d63e0d7f13f073bde8c0f209ba8/docs/examples/notebooks/rmagic_extension.ipynb\n",
      "\n",
      "After loading the `rmagic` extension, you can use `%R` for a single R *line magic* command or `%%R` for *cell magic* to handle a sequence of R commands."
     ]
    },
    {
     "cell_type": "code",
     "collapsed": false,
     "input": [
      "# Load the extension\n",
      "%load_ext rmagic"
     ],
     "language": "python",
     "metadata": {},
     "outputs": [],
     "prompt_number": 17
    },
    {
     "cell_type": "code",
     "collapsed": false,
     "input": [
      "%matplotlib inline"
     ],
     "language": "python",
     "metadata": {},
     "outputs": [],
     "prompt_number": 18
    },
    {
     "cell_type": "code",
     "collapsed": false,
     "input": [
      "# Create some data in Python and scatter it\n",
      "\n",
      "import pylab\n",
      "X = np.array([0,1,2,3,4])\n",
      "Y = np.array([3,5,4,6,7])\n",
      "pylab.scatter(X, Y)"
     ],
     "language": "python",
     "metadata": {},
     "outputs": [
      {
       "metadata": {},
       "output_type": "pyout",
       "prompt_number": 19,
       "text": [
        "<matplotlib.collections.PathCollection at 0xba87cac>"
       ]
      },
      {
       "output_type": "stream",
       "stream": "stderr",
       "text": [
        "/home/pcba/anaconda/lib/python2.7/site-packages/matplotlib/font_manager.py:1236: UserWarning: findfont: Font family ['monospace'] not found. Falling back to Bitstream Vera Sans\n",
        "  (prop.get_family(), self.defaultFamily[fontext]))\n"
       ]
      },
      {
       "metadata": {},
       "output_type": "display_data",
       "png": "[encoded data removed]",
       "text": [
        "<matplotlib.figure.Figure at 0xbab926c>"
       ]
      }
     ],
     "prompt_number": 19
    },
    {
     "cell_type": "code",
     "collapsed": false,
     "input": [
      "# \"Push\" these two numpy arrays into the R \"space\"\n",
      "%Rpush X Y"
     ],
     "language": "python",
     "metadata": {},
     "outputs": [],
     "prompt_number": 20
    },
    {
     "cell_type": "code",
     "collapsed": false,
     "input": [
      "%%R\n",
      "linmodel <- lm(Y~X)\n",
      "print(summary(linmodel))"
     ],
     "language": "python",
     "metadata": {},
     "outputs": [
      {
       "metadata": {},
       "output_type": "display_data",
       "text": [
        "\n",
        "Call:\n",
        "lm(formula = Y ~ X)\n",
        "\n",
        "Residuals:\n",
        "   1    2    3    4    5 \n",
        "-0.2  0.9 -1.0  0.1  0.2 \n",
        "\n",
        "Coefficients:\n",
        "            Estimate Std. Error t value Pr(>|t|)  \n",
        "(Intercept)   3.2000     0.6164   5.191   0.0139 *\n",
        "X             0.9000     0.2517   3.576   0.0374 *\n",
        "---\n",
        "Signif. codes:  0 \u2018***\u2019 0.001 \u2018**\u2019 0.01 \u2018*\u2019 0.05 \u2018.\u2019 0.1 \u2018 \u2019 1\n",
        "\n",
        "Residual standard error: 0.7958 on 3 degrees of freedom\n",
        "Multiple R-squared:   0.81,\tAdjusted R-squared:  0.7467 \n",
        "F-statistic: 12.79 on 1 and 3 DF,  p-value: 0.03739\n",
        "\n"
       ]
      }
     ],
     "prompt_number": 21
    },
    {
     "cell_type": "markdown",
     "metadata": {},
     "source": [
      "So, pretty easy to run R commands from within IPython notebooks. Now let's exploit rmagic to do some ggplotting."
     ]
    },
    {
     "cell_type": "markdown",
     "metadata": {},
     "source": [
      "### Occupancy Histograms ###\n",
      "\n",
      "A popular plotting module for Python is [matplotlib](http://matplotlib.org/). The project homepage has many links to resources for learning it, with a very good place to start\n",
      "being the official [documentation](http://matplotlib.org/contents.html) and the [gallery of graphs](http://matplotlib.org/gallery.html). The are a few modes of using matplotlib. There is a **pyplot** mode which is particularly well suited for interactive plotting\n",
      "in a Python shell like [IPython](http://ipython.org/) (much like one would work in Mathematica or MATLAB). You can also use matplotlib within Python scripts either with\n",
      "the pyplot commands or via an objected oriented API (similar to [ggplot2](http://ggplot2.org/) for plotting in [R](http://www.r-project.org/))."
     ]
    },
    {
     "cell_type": "markdown",
     "metadata": {},
     "source": [
      "Here is a basic histogram for overall occupancy (there's a 'Total' cateogry in our data frame). For a more API based approach, see [this example from the matplotlib page](http://matplotlib.org/examples/api/histogram_demo.html) as\n",
      "well as the next version of our histogram below."
     ]
    },
    {
     "cell_type": "code",
     "collapsed": false,
     "input": [
      "# normed=1 plots probs instead of counts, alpha in [0,1] is transparency level (RGBA colors)\n",
      "plt.hist(meanoccdate_df['occupancy']['Total'], 20, normed=1, facecolor='green', alpha=0.75) \n",
      "plt.xlabel('Occupancy')\n",
      "plt.ylabel('Probability')\n",
      "plt.title(r'Histogram of Short Stay Occupancy')\n",
      "plt.grid(True)\n",
      "plt.show()"
     ],
     "language": "python",
     "metadata": {},
     "outputs": [
      {
       "metadata": {},
       "output_type": "display_data",
       "png": "[encoded data removed]",
       "text": [
        "<matplotlib.figure.Figure at 0xbab242c>"
       ]
      }
     ],
     "prompt_number": 22
    },
    {
     "cell_type": "markdown",
     "metadata": {},
     "source": [
      "Clearly there's a day of the week effect - the lower mode is due to the weekends.\n",
      "\n",
      "\n",
      "Now, let's create the same plot, but using R's `ggplot2` package. Our basic strategy is:\n",
      "\n",
      "- use the `%Rpush` command to \"push\" the meanoccdate_df `DataFrame` into the R workspace.\n",
      "- use `%R` line magic to load the `ggplot2` library\n",
      "- use `%%R` cell magic to create and show the plot\n",
      "\n",
      "A big question is, what happens to the hiearchical index in the pandas `DataFrame` when pushed to R?"
     ]
    },
    {
     "cell_type": "code",
     "collapsed": false,
     "input": [
      "%Rpush meanoccdate_df\n",
      "%R str(meanoccdate_df)"
     ],
     "language": "python",
     "metadata": {},
     "outputs": [
      {
       "metadata": {},
       "output_type": "display_data",
       "text": [
        "'data.frame':\t510 obs. of  2 variables:\n",
        " $ occupancy: num [1:510(1d)] 0 1.73 1.53 1.54 1.87 ...\n",
        " $ dayofweek: Factor w/ 7 levels \"Fri\",\"Mon\",\"Sat\",..: 4 2 6 7 5 1 3 4 2 6 ...\n"
       ]
      }
     ],
     "prompt_number": 23
    },
    {
     "cell_type": "markdown",
     "metadata": {},
     "source": [
      "Bummer, the category (patient type) and date fields that made up the pandas `MultiIndex` did not come through. No problem, we'll just create columns from the index before pushing the data frame to R."
     ]
    },
    {
     "cell_type": "code",
     "collapsed": false,
     "input": [
      "meanoccdate_df['patient_type'] = meanoccdate_df.index.map(lambda x: x[0])\n",
      "meanoccdate_df['date'] = meanoccdate_df.index.map(lambda x: x[1])"
     ],
     "language": "python",
     "metadata": {},
     "outputs": [],
     "prompt_number": 24
    },
    {
     "cell_type": "code",
     "collapsed": false,
     "input": [
      "%Rpush meanoccdate_df\n",
      "%R str(meanoccdate_df)"
     ],
     "language": "python",
     "metadata": {},
     "outputs": [
      {
       "metadata": {},
       "output_type": "display_data",
       "text": [
        "'data.frame':\t510 obs. of  4 variables:\n",
        " $ occupancy   : num [1:510(1d)] 0 1.73 1.53 1.54 1.87 ...\n",
        " $ dayofweek   : Factor w/ 7 levels \"Fri\",\"Mon\",\"Sat\",..: 4 2 6 7 5 1 3 4 2 6 ...\n",
        " $ patient_type: Factor w/ 6 levels \"ART\",\"CAT\",\"IVT\",..: 1 1 1 1 1 1 1 1 1 1 ...\n",
        " $ date        : Factor w/ 85 levels \"1996-01-07\",\"1996-01-08\",..: 1 2 3 4 5 6 7 8 9 10 ...\n"
       ]
      }
     ],
     "prompt_number": 25
    },
    {
     "cell_type": "code",
     "collapsed": false,
     "input": [
      "%R library(ggplot2)"
     ],
     "language": "python",
     "metadata": {},
     "outputs": [
      {
       "metadata": {},
       "output_type": "pyout",
       "prompt_number": 26,
       "text": [
        "array(['ggplot2', 'tools', 'stats', 'graphics', 'grDevices', 'utils',\n",
        "       'datasets', 'methods', 'base'], \n",
        "      dtype='|S9')"
       ]
      }
     ],
     "prompt_number": 26
    },
    {
     "cell_type": "code",
     "collapsed": false,
     "input": [
      "%%R\n",
      "g <- ggplot(data=meanoccdate_df[meanoccdate_df$patient_type == 'Total',]) + geom_histogram(aes(x=occupancy, y=..density..), fill=\"#FF9999\", colour=\"black\")\n",
      "print(g)"
     ],
     "language": "python",
     "metadata": {},
     "outputs": [
      {
       "metadata": {},
       "output_type": "display_data",
       "text": [
        "stat_bin: binwidth defaulted to range/30. Use 'binwidth = x' to adjust this.\n"
       ]
      },
      {
       "metadata": {},
       "output_type": "display_data",
       "png": "[encoded data removed]"
      }
     ],
     "prompt_number": 27
    },
    {
     "cell_type": "markdown",
     "metadata": {},
     "source": [
      "Now let's do a facet plot by patient_type and day of week."
     ]
    },
    {
     "cell_type": "code",
     "collapsed": false,
     "input": [
      "%%R\n",
      "g2 <- ggplot(data=meanoccdate_df) + geom_histogram(aes(x=occupancy, y=..density..), binwidth=2, fill=\"#FF9999\", colour=\"black\")\n",
      "print(g2 + facet_grid(patient_type ~ dayofweek))"
     ],
     "language": "python",
     "metadata": {},
     "outputs": [
      {
       "metadata": {},
       "output_type": "display_data",
       "png": "[encoded data removed]"
      }
     ],
     "prompt_number": 28
    },
    {
     "cell_type": "markdown",
     "metadata": {},
     "source": [
      "Notice that the days of the week are not sorted correctly. Why? Recall the structure of our R `data.frame`."
     ]
    },
    {
     "cell_type": "code",
     "collapsed": false,
     "input": [
      "%R str(meanoccdate_df)"
     ],
     "language": "python",
     "metadata": {},
     "outputs": [
      {
       "metadata": {},
       "output_type": "display_data",
       "text": [
        "'data.frame':\t510 obs. of  4 variables:\n",
        " $ occupancy   : num [1:510(1d)] 0 1.73 1.53 1.54 1.87 ...\n",
        " $ dayofweek   : Factor w/ 7 levels \"Fri\",\"Mon\",\"Sat\",..: 4 2 6 7 5 1 3 4 2 6 ...\n",
        " $ patient_type: Factor w/ 6 levels \"ART\",\"CAT\",\"IVT\",..: 1 1 1 1 1 1 1 1 1 1 ...\n",
        " $ date        : Factor w/ 85 levels \"1996-01-07\",\"1996-01-08\",..: 1 2 3 4 5 6 7 8 9 10 ...\n"
       ]
      }
     ],
     "prompt_number": 29
    },
    {
     "cell_type": "markdown",
     "metadata": {},
     "source": [
      "The dayofweek column is a Factor. We want it to be an Ordered Factor and we want to tell R the order to use."
     ]
    },
    {
     "cell_type": "code",
     "collapsed": false,
     "input": [
      "%%R\n",
      "# Create vector with DOWs ordered as you wish\n",
      "DOW_order <- c(\"Sun\", \"Mon\", \"Tue\", \"Wed\", \"Thu\", \"Fri\", \"Sat\")\n",
      "\n",
      "# Change DOW from factor to ordered factor using vector you just made\n",
      "meanoccdate_df$dayofweek <- factor(meanoccdate_df$dayofweek,levels=DOW_order,ordered=TRUE)"
     ],
     "language": "python",
     "metadata": {},
     "outputs": [],
     "prompt_number": 30
    },
    {
     "cell_type": "code",
     "collapsed": false,
     "input": [
      "%R str(meanoccdate_df)"
     ],
     "language": "python",
     "metadata": {},
     "outputs": [
      {
       "metadata": {},
       "output_type": "display_data",
       "text": [
        "'data.frame':\t510 obs. of  4 variables:\n",
        " $ occupancy   : num [1:510(1d)] 0 1.73 1.53 1.54 1.87 ...\n",
        " $ dayofweek   : Ord.factor w/ 7 levels \"Sun\"<\"Mon\"<\"Tue\"<..: 1 2 3 4 5 6 7 1 2 3 ...\n",
        " $ patient_type: Factor w/ 6 levels \"ART\",\"CAT\",\"IVT\",..: 1 1 1 1 1 1 1 1 1 1 ...\n",
        " $ date        : Factor w/ 85 levels \"1996-01-07\",\"1996-01-08\",..: 1 2 3 4 5 6 7 8 9 10 ...\n"
       ]
      }
     ],
     "prompt_number": 31
    },
    {
     "cell_type": "code",
     "collapsed": false,
     "input": [
      "%%R\n",
      "g2 <- ggplot(data=meanoccdate_df) + geom_histogram(aes(x=occupancy, y=..density..), binwidth=2, fill=\"#FF9999\", colour=\"black\")\n",
      "print(g2 + facet_grid(patient_type ~ dayofweek))"
     ],
     "language": "python",
     "metadata": {},
     "outputs": [
      {
       "metadata": {},
       "output_type": "display_data",
       "png": "[encoded data removed]"
      }
     ],
     "prompt_number": 32
    },
    {
     "cell_type": "markdown",
     "metadata": {},
     "source": [
      "And now we've got the DOW ordering we really wanted. This has been a quick tour of plotting occupancy data using ggplot2 from within an IPython notebook. Future installments of this series of occupancy analysis will focus on more occupancy visualizations using some combination of R and Python.\n"
     ]
    }
   ],
   "metadata": {}
  }
 ]
}